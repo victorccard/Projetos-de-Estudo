{
 "cells": [
  {
   "cell_type": "code",
   "execution_count": 1,
   "id": "ef4bd661",
   "metadata": {
    "ExecuteTime": {
     "end_time": "2022-10-16T03:42:32.005928Z",
     "start_time": "2022-10-16T03:42:09.114712Z"
    }
   },
   "outputs": [
    {
     "name": "stderr",
     "output_type": "stream",
     "text": [
      "C:\\Users\\victo\\miniconda3\\lib\\site-packages\\scipy\\__init__.py:146: UserWarning: A NumPy version >=1.16.5 and <1.23.0 is required for this version of SciPy (detected version 1.23.4\n",
      "  warnings.warn(f\"A NumPy version >={np_minversion} and <{np_maxversion}\"\n"
     ]
    }
   ],
   "source": [
    "#Importar bibliotecas\n",
    "import numpy as np\n",
    "import pandas as pd\n",
    "import matplotlib.pyplot as plt\n",
    "import seaborn as sns\n",
    "import tensorflow as tf\n",
    "from tensorflow import keras\n",
    "from tensorflow.keras import layers"
   ]
  },
  {
   "cell_type": "code",
   "execution_count": 4,
   "id": "04f5b857",
   "metadata": {
    "ExecuteTime": {
     "end_time": "2022-10-16T03:42:41.424677Z",
     "start_time": "2022-10-16T03:42:41.414127Z"
    }
   },
   "outputs": [],
   "source": [
    "# Fazer download do dataset diretamente pelo python\n",
    "import ssl\n",
    "ssl._create_default_https_context = ssl._create_unverified_context\n",
    "dataset_path = keras.utils.get_file(\"housing.data\", \"https://archive.ics.uci.edu/ml/machine-learning-databases/housing/housing.data\")"
   ]
  },
  {
   "cell_type": "code",
   "execution_count": 2,
   "id": "2b2fc21b",
   "metadata": {
    "ExecuteTime": {
     "end_time": "2022-10-16T03:42:32.036996Z",
     "start_time": "2022-10-16T03:42:32.025079Z"
    },
    "code_folding": [
     0
    ]
   },
   "outputs": [],
   "source": [
    "#Criar lista com nome das colunas\n",
    "nome_colunas = ['CRIM',\n",
    "                'ZN',\n",
    "                'INDUS',\n",
    "                'CHAS',\n",
    "                'NOX',\n",
    "                'RM',\n",
    "                'AGE',\n",
    "                'DIS',\n",
    "                'RAD',\n",
    "                'TAX',\n",
    "                'PTRATIO',\n",
    "                'B',\n",
    "                'LSTAT', \n",
    "                'MEDV']"
   ]
  },
  {
   "cell_type": "code",
   "execution_count": 5,
   "id": "a4833585",
   "metadata": {
    "ExecuteTime": {
     "end_time": "2022-10-16T03:42:44.130225Z",
     "start_time": "2022-10-16T03:42:44.096793Z"
    }
   },
   "outputs": [],
   "source": [
    "# Carregar o dataset\n",
    "dataset = pd.read_csv(dataset_path,\n",
    "                     names = nome_colunas,\n",
    "                     na_values = \"?\",\n",
    "                     comment = \"\\t\",\n",
    "                     sep = \" \",\n",
    "                     skipinitialspace = True)"
   ]
  },
  {
   "cell_type": "code",
   "execution_count": 6,
   "id": "27428046",
   "metadata": {
    "ExecuteTime": {
     "end_time": "2022-10-16T03:42:45.636753Z",
     "start_time": "2022-10-16T03:42:45.615429Z"
    }
   },
   "outputs": [
    {
     "data": {
      "text/plain": [
       "(506, 14)"
      ]
     },
     "execution_count": 6,
     "metadata": {},
     "output_type": "execute_result"
    }
   ],
   "source": [
    "# tamanho do dataset\n",
    "dataset.shape"
   ]
  },
  {
   "cell_type": "code",
   "execution_count": 7,
   "id": "2e2c5884",
   "metadata": {
    "ExecuteTime": {
     "end_time": "2022-10-16T03:42:46.522878Z",
     "start_time": "2022-10-16T03:42:46.491767Z"
    }
   },
   "outputs": [
    {
     "data": {
      "text/html": [
       "<div>\n",
       "<style scoped>\n",
       "    .dataframe tbody tr th:only-of-type {\n",
       "        vertical-align: middle;\n",
       "    }\n",
       "\n",
       "    .dataframe tbody tr th {\n",
       "        vertical-align: top;\n",
       "    }\n",
       "\n",
       "    .dataframe thead th {\n",
       "        text-align: right;\n",
       "    }\n",
       "</style>\n",
       "<table border=\"1\" class=\"dataframe\">\n",
       "  <thead>\n",
       "    <tr style=\"text-align: right;\">\n",
       "      <th></th>\n",
       "      <th>CRIM</th>\n",
       "      <th>ZN</th>\n",
       "      <th>INDUS</th>\n",
       "      <th>CHAS</th>\n",
       "      <th>NOX</th>\n",
       "      <th>RM</th>\n",
       "      <th>AGE</th>\n",
       "      <th>DIS</th>\n",
       "      <th>RAD</th>\n",
       "      <th>TAX</th>\n",
       "      <th>PTRATIO</th>\n",
       "      <th>B</th>\n",
       "      <th>LSTAT</th>\n",
       "      <th>MEDV</th>\n",
       "    </tr>\n",
       "  </thead>\n",
       "  <tbody>\n",
       "    <tr>\n",
       "      <th>0</th>\n",
       "      <td>0.00632</td>\n",
       "      <td>18.0</td>\n",
       "      <td>2.31</td>\n",
       "      <td>0</td>\n",
       "      <td>0.538</td>\n",
       "      <td>6.575</td>\n",
       "      <td>65.2</td>\n",
       "      <td>4.0900</td>\n",
       "      <td>1</td>\n",
       "      <td>296.0</td>\n",
       "      <td>15.3</td>\n",
       "      <td>396.90</td>\n",
       "      <td>4.98</td>\n",
       "      <td>24.0</td>\n",
       "    </tr>\n",
       "    <tr>\n",
       "      <th>1</th>\n",
       "      <td>0.02731</td>\n",
       "      <td>0.0</td>\n",
       "      <td>7.07</td>\n",
       "      <td>0</td>\n",
       "      <td>0.469</td>\n",
       "      <td>6.421</td>\n",
       "      <td>78.9</td>\n",
       "      <td>4.9671</td>\n",
       "      <td>2</td>\n",
       "      <td>242.0</td>\n",
       "      <td>17.8</td>\n",
       "      <td>396.90</td>\n",
       "      <td>9.14</td>\n",
       "      <td>21.6</td>\n",
       "    </tr>\n",
       "    <tr>\n",
       "      <th>2</th>\n",
       "      <td>0.02729</td>\n",
       "      <td>0.0</td>\n",
       "      <td>7.07</td>\n",
       "      <td>0</td>\n",
       "      <td>0.469</td>\n",
       "      <td>7.185</td>\n",
       "      <td>61.1</td>\n",
       "      <td>4.9671</td>\n",
       "      <td>2</td>\n",
       "      <td>242.0</td>\n",
       "      <td>17.8</td>\n",
       "      <td>392.83</td>\n",
       "      <td>4.03</td>\n",
       "      <td>34.7</td>\n",
       "    </tr>\n",
       "    <tr>\n",
       "      <th>3</th>\n",
       "      <td>0.03237</td>\n",
       "      <td>0.0</td>\n",
       "      <td>2.18</td>\n",
       "      <td>0</td>\n",
       "      <td>0.458</td>\n",
       "      <td>6.998</td>\n",
       "      <td>45.8</td>\n",
       "      <td>6.0622</td>\n",
       "      <td>3</td>\n",
       "      <td>222.0</td>\n",
       "      <td>18.7</td>\n",
       "      <td>394.63</td>\n",
       "      <td>2.94</td>\n",
       "      <td>33.4</td>\n",
       "    </tr>\n",
       "    <tr>\n",
       "      <th>4</th>\n",
       "      <td>0.06905</td>\n",
       "      <td>0.0</td>\n",
       "      <td>2.18</td>\n",
       "      <td>0</td>\n",
       "      <td>0.458</td>\n",
       "      <td>7.147</td>\n",
       "      <td>54.2</td>\n",
       "      <td>6.0622</td>\n",
       "      <td>3</td>\n",
       "      <td>222.0</td>\n",
       "      <td>18.7</td>\n",
       "      <td>396.90</td>\n",
       "      <td>5.33</td>\n",
       "      <td>36.2</td>\n",
       "    </tr>\n",
       "  </tbody>\n",
       "</table>\n",
       "</div>"
      ],
      "text/plain": [
       "      CRIM    ZN  INDUS  CHAS    NOX     RM   AGE     DIS  RAD    TAX  \\\n",
       "0  0.00632  18.0   2.31     0  0.538  6.575  65.2  4.0900    1  296.0   \n",
       "1  0.02731   0.0   7.07     0  0.469  6.421  78.9  4.9671    2  242.0   \n",
       "2  0.02729   0.0   7.07     0  0.469  7.185  61.1  4.9671    2  242.0   \n",
       "3  0.03237   0.0   2.18     0  0.458  6.998  45.8  6.0622    3  222.0   \n",
       "4  0.06905   0.0   2.18     0  0.458  7.147  54.2  6.0622    3  222.0   \n",
       "\n",
       "   PTRATIO       B  LSTAT  MEDV  \n",
       "0     15.3  396.90   4.98  24.0  \n",
       "1     17.8  396.90   9.14  21.6  \n",
       "2     17.8  392.83   4.03  34.7  \n",
       "3     18.7  394.63   2.94  33.4  \n",
       "4     18.7  396.90   5.33  36.2  "
      ]
     },
     "execution_count": 7,
     "metadata": {},
     "output_type": "execute_result"
    }
   ],
   "source": [
    "# primeiras linhas do dataset\n",
    "dataset.head()"
   ]
  },
  {
   "cell_type": "code",
   "execution_count": 8,
   "id": "6950b2fc",
   "metadata": {
    "ExecuteTime": {
     "end_time": "2022-10-16T03:42:47.326021Z",
     "start_time": "2022-10-16T03:42:47.312728Z"
    }
   },
   "outputs": [],
   "source": [
    "#Split dos dados para treino e teste\n",
    "dados_treino = dataset.sample(frac= 0.8, random_state= 0 )\n",
    "dados_teste = dataset.drop(dados_treino.index)"
   ]
  },
  {
   "cell_type": "markdown",
   "id": "fb9c52bb",
   "metadata": {},
   "source": [
    "## Modelagem Preditiva - Regressão Linear Simples\n",
    "\n",
    "Na regressão linear simples desejamos modelar a relação entre a variável dependente (y) e uma variável independente (x).\n",
    "\n",
    "* Variável independente: 'RM' - Média de quartos por moradia\n",
    "* Variável dependente: 'MEDV' - mediana do preço das casas ocupadas por proprietários em $1000\n",
    "\n",
    "Queremos prever o valor da mediana das casas ocupadas por proprietários com base no número de quartos."
   ]
  },
  {
   "cell_type": "markdown",
   "id": "fcb8b22f",
   "metadata": {},
   "source": [
    "Vamos criar um plot mostrando a relação atual entre as variáveis.\n",
    "\n",
    "Basicamente temos $MEDV=f(RM)$ e queremos estimar a função $f()$ usando regressão linear."
   ]
  },
  {
   "cell_type": "code",
   "execution_count": 16,
   "id": "9936912d",
   "metadata": {
    "ExecuteTime": {
     "end_time": "2022-10-16T04:17:56.191321Z",
     "start_time": "2022-10-16T04:17:55.679735Z"
    }
   },
   "outputs": [
    {
     "data": {
      "image/png": "[encoded data removed]",
      "text/plain": [
       "<Figure size 640x480 with 1 Axes>"
      ]
     },
     "metadata": {},
     "output_type": "display_data"
    }
   ],
   "source": [
    "# Representação visual dos dados de treino\n",
    "fig, ax = plt.subplots()\n",
    "x = dados_treino['RM']\n",
    "y = dados_treino['MEDV']\n",
    "ax.scatter(x, y, edgecolors=(0, 0, 0))\n",
    "ax.set_xlabel('Média de quartos por moradia')\n",
    "ax.set_ylabel('Mediana')\n",
    "plt.show()"
   ]
  },
  {
   "cell_type": "code",
   "execution_count": 17,
   "id": "da72328c",
   "metadata": {
    "ExecuteTime": {
     "end_time": "2022-10-16T04:17:56.802870Z",
     "start_time": "2022-10-16T04:17:56.791852Z"
    }
   },
   "outputs": [],
   "source": [
    "# Separar X e y para treino e teste\n",
    "x_treino = dados_treino['RM']\n",
    "y_treino = dados_treino['MEDV']\n",
    "x_teste = dados_teste['RM']\n",
    "y_teste = dados_teste['MEDV']"
   ]
  },
  {
   "cell_type": "code",
   "execution_count": 11,
   "id": "92b2d424",
   "metadata": {
    "ExecuteTime": {
     "end_time": "2022-10-16T03:56:24.635127Z",
     "start_time": "2022-10-16T03:56:24.622892Z"
    }
   },
   "outputs": [],
   "source": [
    "# Função para construir o modelo\n",
    "def modelo_linear():\n",
    "    \n",
    "    # Cria o modelo\n",
    "    model = keras.Sequential([layers.Dense(1, use_bias = True, input_shape = (1,), name  = 'layer')])\n",
    "    \n",
    "    # Otimizador\n",
    "    optimizer = tf.keras.optimizers.Adam(learning_rate= 0.01,\n",
    "                                        beta_1= 0.9,\n",
    "                                        beta_2= 0.99,\n",
    "                                        epsilon= 1e-05,\n",
    "                                        amsgrad= False,\n",
    "                                        name= 'Adam')\n",
    "    \n",
    "    # Compila o modelo\n",
    "    model.compile(loss= 'mse',\n",
    "                 optimizer = optimizer,\n",
    "                 metrics= ['mae', 'mse'])\n",
    "    \n",
    "    return model"
   ]
  },
  {
   "cell_type": "code",
   "execution_count": 12,
   "id": "69897f21",
   "metadata": {
    "ExecuteTime": {
     "end_time": "2022-10-16T03:57:25.465179Z",
     "start_time": "2022-10-16T03:57:24.824763Z"
    }
   },
   "outputs": [],
   "source": [
    "# Cria o modelo\n",
    "modelo = modelo_linear()"
   ]
  },
  {
   "cell_type": "markdown",
   "id": "fe05824d",
   "metadata": {},
   "source": [
    "## Treinamento do modelo"
   ]
  },
  {
   "cell_type": "code",
   "execution_count": 18,
   "id": "92bd60c6",
   "metadata": {
    "ExecuteTime": {
     "end_time": "2022-10-16T04:18:01.808337Z",
     "start_time": "2022-10-16T04:18:01.791005Z"
    }
   },
   "outputs": [
    {
     "name": "stdout",
     "output_type": "stream",
     "text": [
      "checkpoint salvo a cada 81000 amostras\n"
     ]
    }
   ],
   "source": [
    "# Hiperparâmetros\n",
    "n_epochs = 4000\n",
    "batch_size = 256\n",
    "n_idel_epochs = 100\n",
    "n_epochs_log = 200\n",
    "n_samples_save = n_epochs_log * x_treino.shape[0]\n",
    "print('checkpoint salvo a cada {} amostras'. format(n_samples_save))"
   ]
  },
  {
   "cell_type": "code",
   "execution_count": 21,
   "id": "e86c9a24",
   "metadata": {
    "ExecuteTime": {
     "end_time": "2022-10-16T04:36:49.458347Z",
     "start_time": "2022-10-16T04:36:49.435963Z"
    }
   },
   "outputs": [],
   "source": [
    "# Callback\n",
    "earlyStopping = tf.keras.callbacks.EarlyStopping(monitor = 'val_loss',\n",
    "                                                patience= n_idel_epochs,\n",
    "                                                min_delta = 0.001)"
   ]
  },
  {
   "cell_type": "code",
   "execution_count": 22,
   "id": "b765892d",
   "metadata": {
    "ExecuteTime": {
     "end_time": "2022-10-16T04:45:39.939511Z",
     "start_time": "2022-10-16T04:45:39.921515Z"
    }
   },
   "outputs": [],
   "source": [
    "    # Lista para as previsões\n",
    "    predictions_list = []"
   ]
  },
  {
   "cell_type": "code",
   "execution_count": 23,
   "id": "1051ba67",
   "metadata": {
    "ExecuteTime": {
     "end_time": "2022-10-16T04:46:04.847318Z",
     "start_time": "2022-10-16T04:46:04.837334Z"
    }
   },
   "outputs": [],
   "source": [
    "# Caminho para salvar o checkpoint\n",
    "checkpoint_path = \"dados/\""
   ]
  },
  {
   "cell_type": "code",
   "execution_count": 24,
   "id": "5eddfc7d",
   "metadata": {
    "ExecuteTime": {
     "end_time": "2022-10-16T04:48:38.379492Z",
     "start_time": "2022-10-16T04:48:38.360117Z"
    }
   },
   "outputs": [],
   "source": [
    "# Create a callback that saves the model's weights every n_samples_save\n",
    "checkpointCallback = tf.keras.callbacks.ModelCheckpoint(filepath= \"dados/\",\n",
    "                                                       verbose= 1,\n",
    "                                                       save_weights_only=True,\n",
    "                                                       save_freq= n_samples_save)"
   ]
  },
  {
   "cell_type": "code",
   "execution_count": 26,
   "id": "dc4586d9",
   "metadata": {
    "ExecuteTime": {
     "end_time": "2022-10-16T04:49:21.596357Z",
     "start_time": "2022-10-16T04:49:21.158366Z"
    }
   },
   "outputs": [],
   "source": [
    "# Salva a primeira versão do modelo\n",
    "modelo.save_weights(checkpoint_path.format(epoch = 0))"
   ]
  },
  {
   "cell_type": "code",
   "execution_count": 27,
   "id": "ec6fb76e",
   "metadata": {
    "ExecuteTime": {
     "end_time": "2022-10-16T05:09:37.947894Z",
     "start_time": "2022-10-16T05:07:08.176221Z"
    }
   },
   "outputs": [
    {
     "name": "stdout",
     "output_type": "stream",
     "text": [
      "Epoch 1/4000\n",
      "2/2 [==============================] - 8s 3s/step - loss: 1072.5229 - mae: 31.3561 - mse: 1072.5229 - val_loss: 1184.1649 - val_mae: 32.6645 - val_mse: 1184.1649\n",
      "Epoch 2/4000\n",
      "2/2 [==============================] - 2s 2s/step - loss: 1063.2264 - mae: 31.2105 - mse: 1063.2264 - val_loss: 1174.5037 - val_mae: 32.5186 - val_mse: 1174.5037\n",
      "Epoch 3/4000\n",
      "2/2 [==============================] - 0s 73ms/step - loss: 1053.9148 - mae: 31.0650 - mse: 1053.9147 - val_loss: 1164.8844 - val_mae: 32.3727 - val_mse: 1164.8844\n",
      "Epoch 4/4000\n",
      "2/2 [==============================] - 0s 66ms/step - loss: 1044.7811 - mae: 30.9201 - mse: 1044.7811 - val_loss: 1155.3070 - val_mae: 32.2268 - val_mse: 1155.3070\n",
      "Epoch 5/4000\n",
      "2/2 [==============================] - 0s 85ms/step - loss: 1035.7126 - mae: 30.7751 - mse: 1035.7126 - val_loss: 1145.7888 - val_mae: 32.0812 - val_mse: 1145.7888\n",
      "Epoch 6/4000\n",
      "2/2 [==============================] - 0s 60ms/step - loss: 1026.5004 - mae: 30.6297 - mse: 1026.5002 - val_loss: 1136.3329 - val_mae: 31.9358 - val_mse: 1136.3329\n",
      "Epoch 7/4000\n",
      "2/2 [==============================] - 0s 63ms/step - loss: 1017.4210 - mae: 30.4847 - mse: 1017.4210 - val_loss: 1126.9158 - val_mae: 31.7904 - val_mse: 1126.9158\n",
      "Epoch 8/4000\n",
      "2/2 [==============================] - 0s 56ms/step - loss: 1008.4897 - mae: 30.3401 - mse: 1008.4897 - val_loss: 1117.5398 - val_mae: 31.6450 - val_mse: 1117.5398\n",
      "Epoch 9/4000\n",
      "2/2 [==============================] - 0s 70ms/step - loss: 999.5833 - mae: 30.1955 - mse: 999.5833 - val_loss: 1108.2231 - val_mae: 31.4998 - val_mse: 1108.2231\n",
      "Epoch 10/4000\n",
      "2/2 [==============================] - 0s 66ms/step - loss: 990.6721 - mae: 30.0509 - mse: 990.6721 - val_loss: 1098.9727 - val_mae: 31.3550 - val_mse: 1098.9727\n",
      "Epoch 11/4000\n",
      "2/2 [==============================] - 0s 73ms/step - loss: 981.8085 - mae: 29.9066 - mse: 981.8085 - val_loss: 1089.7812 - val_mae: 31.2105 - val_mse: 1089.7812\n",
      "Epoch 12/4000\n",
      "2/2 [==============================] - 0s 61ms/step - loss: 972.9439 - mae: 29.7624 - mse: 972.9439 - val_loss: 1080.6383 - val_mae: 31.0660 - val_mse: 1080.6383\n",
      "Epoch 13/4000\n",
      "2/2 [==============================] - 0s 59ms/step - loss: 964.2368 - mae: 29.6185 - mse: 964.2368 - val_loss: 1071.5306 - val_mae: 30.9215 - val_mse: 1071.5306\n",
      "Epoch 14/4000\n",
      "2/2 [==============================] - 0s 60ms/step - loss: 955.6406 - mae: 29.4748 - mse: 955.6406 - val_loss: 1062.4739 - val_mae: 30.7771 - val_mse: 1062.4739\n",
      "Epoch 15/4000\n",
      "2/2 [==============================] - 0s 60ms/step - loss: 946.9171 - mae: 29.3310 - mse: 946.9171 - val_loss: 1053.4849 - val_mae: 30.6331 - val_mse: 1053.4849\n",
      "Epoch 16/4000\n",
      "2/2 [==============================] - 0s 62ms/step - loss: 938.4175 - mae: 29.1877 - mse: 938.4175 - val_loss: 1044.5481 - val_mae: 30.4893 - val_mse: 1044.5481\n",
      "Epoch 17/4000\n",
      "2/2 [==============================] - 0s 65ms/step - loss: 929.8281 - mae: 29.0444 - mse: 929.8281 - val_loss: 1035.6780 - val_mae: 30.3459 - val_mse: 1035.6780\n",
      "Epoch 18/4000\n",
      "2/2 [==============================] - 0s 77ms/step - loss: 921.4009 - mae: 28.9016 - mse: 921.4009 - val_loss: 1026.8596 - val_mae: 30.2026 - val_mse: 1026.8596\n",
      "Epoch 19/4000\n",
      "2/2 [==============================] - 0s 65ms/step - loss: 913.0017 - mae: 28.7590 - mse: 913.0017 - val_loss: 1018.1021 - val_mae: 30.0597 - val_mse: 1018.1021\n",
      "Epoch 20/4000\n",
      "2/2 [==============================] - 0s 68ms/step - loss: 904.6295 - mae: 28.6169 - mse: 904.6295 - val_loss: 1009.4051 - val_mae: 29.9171 - val_mse: 1009.4051\n",
      "Epoch 21/4000\n",
      "2/2 [==============================] - 0s 63ms/step - loss: 896.3157 - mae: 28.4745 - mse: 896.3157 - val_loss: 1000.7614 - val_mae: 29.7747 - val_mse: 1000.7614\n",
      "Epoch 22/4000\n",
      "2/2 [==============================] - 0s 66ms/step - loss: 888.1100 - mae: 28.3328 - mse: 888.1100 - val_loss: 992.1682 - val_mae: 29.6325 - val_mse: 992.1682\n",
      "Epoch 23/4000\n",
      "2/2 [==============================] - 0s 62ms/step - loss: 879.9516 - mae: 28.1913 - mse: 879.9516 - val_loss: 983.6357 - val_mae: 29.4905 - val_mse: 983.6357\n",
      "Epoch 24/4000\n",
      "2/2 [==============================] - 0s 62ms/step - loss: 871.8137 - mae: 28.0500 - mse: 871.8137 - val_loss: 975.1694 - val_mae: 29.3491 - val_mse: 975.1694\n",
      "Epoch 25/4000\n",
      "2/2 [==============================] - 0s 57ms/step - loss: 863.7605 - mae: 27.9091 - mse: 863.7605 - val_loss: 966.7646 - val_mae: 29.2079 - val_mse: 966.7646\n",
      "Epoch 26/4000\n",
      "2/2 [==============================] - 0s 74ms/step - loss: 855.7471 - mae: 27.7684 - mse: 855.7471 - val_loss: 958.4215 - val_mae: 29.0672 - val_mse: 958.4215\n",
      "Epoch 27/4000\n",
      "2/2 [==============================] - 0s 70ms/step - loss: 847.8071 - mae: 27.6283 - mse: 847.8071 - val_loss: 950.1362 - val_mae: 28.9267 - val_mse: 950.1362\n",
      "Epoch 28/4000\n",
      "1/2 [==============>...............] - ETA: 0s - loss: 843.4879 - mae: 27.57"
     ]
    },
    {
     "data": {
      "text/html": [
       "<b>limit_output extension: Maximum message size of 10000 exceeded with 10018 characters</b>"
      ]
     },
     "metadata": {},
     "output_type": "display_data"
    }
   ],
   "source": [
    "# Treinamento\n",
    "history = modelo.fit(x_treino,\n",
    "                    y_treino,\n",
    "                    batch_size= batch_size,\n",
    "                    epochs= n_epochs,\n",
    "                    validation_split= 0.1,\n",
    "                    verbose= 1,\n",
    "                    callbacks= [earlyStopping, checkpointCallback])"
   ]
  },
  {
   "cell_type": "code",
   "execution_count": 28,
   "id": "fe397fb4",
   "metadata": {
    "ExecuteTime": {
     "end_time": "2022-10-16T05:15:17.901599Z",
     "start_time": "2022-10-16T05:15:17.889102Z"
    }
   },
   "outputs": [],
   "source": [
    "# Retornado os valores desejados para o plot\n",
    "mse = np.asarray(history.history['mse'])\n",
    "val_mse = np.asarray(history.history['val_mse'])"
   ]
  },
  {
   "cell_type": "code",
   "execution_count": 30,
   "id": "4961648d",
   "metadata": {
    "ExecuteTime": {
     "end_time": "2022-10-16T05:16:43.049138Z",
     "start_time": "2022-10-16T05:16:43.037691Z"
    }
   },
   "outputs": [],
   "source": [
    "# Prepara os valores para o dataframe\n",
    "num_values = (len(mse))\n",
    "values = np.zeros((num_values, 2), dtype = float)\n",
    "values[:,0] = mse\n",
    "values[:,1] = val_mse"
   ]
  },
  {
   "cell_type": "code",
   "execution_count": 31,
   "id": "c9c8f134",
   "metadata": {
    "ExecuteTime": {
     "end_time": "2022-10-16T05:17:50.378660Z",
     "start_time": "2022-10-16T05:17:50.367015Z"
    }
   },
   "outputs": [],
   "source": [
    "# Cria o dataframe\n",
    "steps = pd.RangeIndex(start = 0, stop= num_values)\n",
    "df = pd.DataFrame(values, steps, columns= ['MSE em Treino', \"MSE em Validação\"])"
   ]
  },
  {
   "cell_type": "code",
   "execution_count": 35,
   "id": "d48f8557",
   "metadata": {
    "ExecuteTime": {
     "end_time": "2022-10-16T05:20:36.164760Z",
     "start_time": "2022-10-16T05:20:36.142613Z"
    }
   },
   "outputs": [
    {
     "data": {
      "text/html": [
       "<div>\n",
       "<style scoped>\n",
       "    .dataframe tbody tr th:only-of-type {\n",
       "        vertical-align: middle;\n",
       "    }\n",
       "\n",
       "    .dataframe tbody tr th {\n",
       "        vertical-align: top;\n",
       "    }\n",
       "\n",
       "    .dataframe thead th {\n",
       "        text-align: right;\n",
       "    }\n",
       "</style>\n",
       "<table border=\"1\" class=\"dataframe\">\n",
       "  <thead>\n",
       "    <tr style=\"text-align: right;\">\n",
       "      <th></th>\n",
       "      <th>MSE em Treino</th>\n",
       "      <th>MSE em Validação</th>\n",
       "    </tr>\n",
       "  </thead>\n",
       "  <tbody>\n",
       "    <tr>\n",
       "      <th>0</th>\n",
       "      <td>1072.522949</td>\n",
       "      <td>1184.164917</td>\n",
       "    </tr>\n",
       "    <tr>\n",
       "      <th>1</th>\n",
       "      <td>1063.226440</td>\n",
       "      <td>1174.503662</td>\n",
       "    </tr>\n",
       "    <tr>\n",
       "      <th>2</th>\n",
       "      <td>1053.914673</td>\n",
       "      <td>1164.884399</td>\n",
       "    </tr>\n",
       "    <tr>\n",
       "      <th>3</th>\n",
       "      <td>1044.781128</td>\n",
       "      <td>1155.307007</td>\n",
       "    </tr>\n",
       "    <tr>\n",
       "      <th>4</th>\n",
       "      <td>1035.712646</td>\n",
       "      <td>1145.788818</td>\n",
       "    </tr>\n",
       "  </tbody>\n",
       "</table>\n",
       "</div>"
      ],
      "text/plain": [
       "   MSE em Treino  MSE em Validação\n",
       "0    1072.522949       1184.164917\n",
       "1    1063.226440       1174.503662\n",
       "2    1053.914673       1164.884399\n",
       "3    1044.781128       1155.307007\n",
       "4    1035.712646       1145.788818"
      ]
     },
     "execution_count": 35,
     "metadata": {},
     "output_type": "execute_result"
    }
   ],
   "source": [
    "df.head()"
   ]
  },
  {
   "cell_type": "code",
   "execution_count": 32,
   "id": "45b5528d",
   "metadata": {
    "ExecuteTime": {
     "end_time": "2022-10-16T05:19:05.896671Z",
     "start_time": "2022-10-16T05:19:02.540792Z"
    }
   },
   "outputs": [
    {
     "data": {
      "text/plain": [
       "<AxesSubplot:>"
      ]
     },
     "execution_count": 32,
     "metadata": {},
     "output_type": "execute_result"
    },
    {
     "data": {
      "image/png": "[encoded data removed]",
      "text/plain": [
       "<Figure size 640x480 with 1 Axes>"
      ]
     },
     "metadata": {},
     "output_type": "display_data"
    }
   ],
   "source": [
    "# Plot\n",
    "sns.set(style = \"whitegrid\")\n",
    "sns.lineplot(data = df, palette = \"tab10\", linewidth = 2.5)"
   ]
  },
  {
   "cell_type": "code",
   "execution_count": 33,
   "id": "a9da4e68",
   "metadata": {
    "ExecuteTime": {
     "end_time": "2022-10-16T05:19:37.789522Z",
     "start_time": "2022-10-16T05:19:37.510756Z"
    }
   },
   "outputs": [
    {
     "name": "stdout",
     "output_type": "stream",
     "text": [
      "4/4 [==============================] - 0s 4ms/step\n"
     ]
    }
   ],
   "source": [
    "# Previsões com o modelo treinado\n",
    "previsoes = modelo.predict(y_teste).flatten()"
   ]
  },
  {
   "cell_type": "code",
   "execution_count": 34,
   "id": "cd14158a",
   "metadata": {
    "ExecuteTime": {
     "end_time": "2022-10-16T05:19:52.859259Z",
     "start_time": "2022-10-16T05:19:52.842843Z"
    }
   },
   "outputs": [
    {
     "data": {
      "text/plain": [
       "array([ 90.81972 ,  63.79612 ,  88.11736 ,  67.038956,  60.012817,\n",
       "       122.1671  , 155.13588 , 125.40993 ,  78.38887 , 115.14096 ,\n",
       "       159.45967 , 119.46474 , 111.898125, 122.707565, 117.84332 ,\n",
       "       108.655304, 116.22191 , 107.574356, 168.10722 ,  94.06255 ,\n",
       "        87.57689 ,  92.44114 ,  92.981606,  98.38632 ,  76.22698 ,\n",
       "        85.955475,  94.60303 ,  67.57943 ,  94.60303 , 258.90652 ,\n",
       "       123.78851 , 113.51955 , 110.817184, 121.62663 , 203.77837 ,\n",
       "       164.32391 , 148.65022 , 185.40233 , 156.75731 , 258.90652 ,\n",
       "       152.43352 , 217.29016 , 250.79942 ,  92.981606, 108.655304,\n",
       "       116.762375,  83.79359 , 122.707565, 258.90652 , 252.42085 ,\n",
       "       111.898125, 258.90652 , 178.91666 , 167.56674 , 107.574356,\n",
       "       109.19576 , 142.70503 , 190.26656 , 139.4622  , 117.30284 ,\n",
       "       113.51955 ,  88.65784 , 123.78851 , 108.655304, 102.710106,\n",
       "        88.65784 , 100.007744,  84.87453 , 111.35766 , 110.817184,\n",
       "       258.90652 ,  63.79612 ,  36.23205 ,  43.798656,  50.824795,\n",
       "        56.229515,  15.694118,  34.610634,  78.929344,  61.093758,\n",
       "        33.529694,  64.87707 ,  45.420074,  71.9032  ,  64.87707 ,\n",
       "        58.931877,  61.093758,  75.68651 ,  69.20084 ,  77.30792 ,\n",
       "        94.06255 , 104.33152 ,  91.36019 ,  96.22444 , 114.06002 ,\n",
       "        78.929344,  70.82226 ,  26.503555,  32.44875 ,  97.30539 ,\n",
       "       107.574356], dtype=float32)"
      ]
     },
     "execution_count": 34,
     "metadata": {},
     "output_type": "execute_result"
    }
   ],
   "source": [
    "# Imprime as previsões\n",
    "previsoes"
   ]
  },
  {
   "cell_type": "code",
   "execution_count": null,
   "id": "89ca2e1d",
   "metadata": {},
   "outputs": [],
   "source": []
  }
 ],
 "metadata": {
  "kernelspec": {
   "display_name": "Python 3 (ipykernel)",
   "language": "python",
   "name": "python3"
  },
  "language_info": {
   "codemirror_mode": {
    "name": "ipython",
    "version": 3
   },
   "file_extension": ".py",
   "mimetype": "text/x-python",
   "name": "python",
   "nbconvert_exporter": "python",
   "pygments_lexer": "ipython3",
   "version": "3.9.13"
  },
  "toc": {
   "base_numbering": 1,
   "nav_menu": {},
   "number_sections": true,
   "sideBar": true,
   "skip_h1_title": false,
   "title_cell": "Table of Contents",
   "title_sidebar": "Contents",
   "toc_cell": false,
   "toc_position": {},
   "toc_section_display": true,
   "toc_window_display": false
  },
  "varInspector": {
   "cols": {
    "lenName": 16,
    "lenType": 16,
    "lenVar": 40
   },
   "kernels_config": {
    "python": {
     "delete_cmd_postfix": "",
     "delete_cmd_prefix": "del ",
     "library": "var_list.py",
     "varRefreshCmd": "print(var_dic_list())"
    },
    "r": {
     "delete_cmd_postfix": ") ",
     "delete_cmd_prefix": "rm(",
     "library": "var_list.r",
     "varRefreshCmd": "cat(var_dic_list()) "
    }
   },
   "types_to_exclude": [
    "module",
    "function",
    "builtin_function_or_method",
    "instance",
    "_Feature"
   ],
   "window_display": false
  }
 },
 "nbformat": 4,
 "nbformat_minor": 5
}
