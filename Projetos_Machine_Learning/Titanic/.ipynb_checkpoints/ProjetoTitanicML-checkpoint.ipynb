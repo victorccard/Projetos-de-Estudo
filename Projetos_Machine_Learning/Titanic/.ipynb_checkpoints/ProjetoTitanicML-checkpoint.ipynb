{
 "cells": [
  {
   "cell_type": "markdown",
   "id": "7cc95626",
   "metadata": {},
   "source": [
    "## IMPORTAR LIBS"
   ]
  },
  {
   "cell_type": "code",
   "execution_count": 37,
   "id": "4a7d7b89",
   "metadata": {
    "ExecuteTime": {
     "end_time": "2022-08-03T03:02:06.843545Z",
     "start_time": "2022-08-03T03:02:06.824546Z"
    }
   },
   "outputs": [],
   "source": [
    "import numpy as np\n",
    "import pandas as pd\n",
    "from sklearn.ensemble import RandomForestClassifier\n",
    "from sklearn.model_selection import train_test_split"
   ]
  },
  {
   "cell_type": "markdown",
   "id": "66a1d938",
   "metadata": {},
   "source": [
    "### CARREGAR DADOS E DEFINIR VARIÁVEIS PREDITORAS"
   ]
  },
  {
   "cell_type": "code",
   "execution_count": 52,
   "id": "f7f56f63",
   "metadata": {
    "ExecuteTime": {
     "end_time": "2022-08-03T03:14:32.445418Z",
     "start_time": "2022-08-03T03:14:32.376428Z"
    }
   },
   "outputs": [
    {
     "data": {
      "text/html": [
       "<div>\n",
       "<style scoped>\n",
       "    .dataframe tbody tr th:only-of-type {\n",
       "        vertical-align: middle;\n",
       "    }\n",
       "\n",
       "    .dataframe tbody tr th {\n",
       "        vertical-align: top;\n",
       "    }\n",
       "\n",
       "    .dataframe thead th {\n",
       "        text-align: right;\n",
       "    }\n",
       "</style>\n",
       "<table border=\"1\" class=\"dataframe\">\n",
       "  <thead>\n",
       "    <tr style=\"text-align: right;\">\n",
       "      <th></th>\n",
       "      <th>PassengerId</th>\n",
       "      <th>Survived</th>\n",
       "      <th>Pclass</th>\n",
       "      <th>Name</th>\n",
       "      <th>Sex</th>\n",
       "      <th>Age</th>\n",
       "      <th>SibSp</th>\n",
       "      <th>Parch</th>\n",
       "      <th>Ticket</th>\n",
       "      <th>Fare</th>\n",
       "      <th>Cabin</th>\n",
       "      <th>Embarked</th>\n",
       "    </tr>\n",
       "  </thead>\n",
       "  <tbody>\n",
       "    <tr>\n",
       "      <th>0</th>\n",
       "      <td>1</td>\n",
       "      <td>0</td>\n",
       "      <td>3</td>\n",
       "      <td>Braund, Mr. Owen Harris</td>\n",
       "      <td>male</td>\n",
       "      <td>22.0</td>\n",
       "      <td>1</td>\n",
       "      <td>0</td>\n",
       "      <td>A/5 21171</td>\n",
       "      <td>7.2500</td>\n",
       "      <td>NaN</td>\n",
       "      <td>S</td>\n",
       "    </tr>\n",
       "    <tr>\n",
       "      <th>1</th>\n",
       "      <td>2</td>\n",
       "      <td>1</td>\n",
       "      <td>1</td>\n",
       "      <td>Cumings, Mrs. John Bradley (Florence Briggs Th...</td>\n",
       "      <td>female</td>\n",
       "      <td>38.0</td>\n",
       "      <td>1</td>\n",
       "      <td>0</td>\n",
       "      <td>PC 17599</td>\n",
       "      <td>71.2833</td>\n",
       "      <td>C85</td>\n",
       "      <td>C</td>\n",
       "    </tr>\n",
       "    <tr>\n",
       "      <th>2</th>\n",
       "      <td>3</td>\n",
       "      <td>1</td>\n",
       "      <td>3</td>\n",
       "      <td>Heikkinen, Miss. Laina</td>\n",
       "      <td>female</td>\n",
       "      <td>26.0</td>\n",
       "      <td>0</td>\n",
       "      <td>0</td>\n",
       "      <td>STON/O2. 3101282</td>\n",
       "      <td>7.9250</td>\n",
       "      <td>NaN</td>\n",
       "      <td>S</td>\n",
       "    </tr>\n",
       "    <tr>\n",
       "      <th>3</th>\n",
       "      <td>4</td>\n",
       "      <td>1</td>\n",
       "      <td>1</td>\n",
       "      <td>Futrelle, Mrs. Jacques Heath (Lily May Peel)</td>\n",
       "      <td>female</td>\n",
       "      <td>35.0</td>\n",
       "      <td>1</td>\n",
       "      <td>0</td>\n",
       "      <td>113803</td>\n",
       "      <td>53.1000</td>\n",
       "      <td>C123</td>\n",
       "      <td>S</td>\n",
       "    </tr>\n",
       "    <tr>\n",
       "      <th>4</th>\n",
       "      <td>5</td>\n",
       "      <td>0</td>\n",
       "      <td>3</td>\n",
       "      <td>Allen, Mr. William Henry</td>\n",
       "      <td>male</td>\n",
       "      <td>35.0</td>\n",
       "      <td>0</td>\n",
       "      <td>0</td>\n",
       "      <td>373450</td>\n",
       "      <td>8.0500</td>\n",
       "      <td>NaN</td>\n",
       "      <td>S</td>\n",
       "    </tr>\n",
       "  </tbody>\n",
       "</table>\n",
       "</div>"
      ],
      "text/plain": [
       "   PassengerId  Survived  Pclass  \\\n",
       "0            1         0       3   \n",
       "1            2         1       1   \n",
       "2            3         1       3   \n",
       "3            4         1       1   \n",
       "4            5         0       3   \n",
       "\n",
       "                                                Name     Sex   Age  SibSp  \\\n",
       "0                            Braund, Mr. Owen Harris    male  22.0      1   \n",
       "1  Cumings, Mrs. John Bradley (Florence Briggs Th...  female  38.0      1   \n",
       "2                             Heikkinen, Miss. Laina  female  26.0      0   \n",
       "3       Futrelle, Mrs. Jacques Heath (Lily May Peel)  female  35.0      1   \n",
       "4                           Allen, Mr. William Henry    male  35.0      0   \n",
       "\n",
       "   Parch            Ticket     Fare Cabin Embarked  \n",
       "0      0         A/5 21171   7.2500   NaN        S  \n",
       "1      0          PC 17599  71.2833   C85        C  \n",
       "2      0  STON/O2. 3101282   7.9250   NaN        S  \n",
       "3      0            113803  53.1000  C123        S  \n",
       "4      0            373450   8.0500   NaN        S  "
      ]
     },
     "execution_count": 52,
     "metadata": {},
     "output_type": "execute_result"
    }
   ],
   "source": [
    "train  = pd.read_csv(\"train.csv\")\n",
    "test = pd.read_csv(\"test.csv\")\n",
    "\n",
    "variaveis = [\"Sex_binario\", \"Age\"]\n",
    "\n",
    "train.head()"
   ]
  },
  {
   "cell_type": "markdown",
   "id": "8ca05a83",
   "metadata": {
    "ExecuteTime": {
     "end_time": "2022-08-03T01:34:53.666992Z",
     "start_time": "2022-08-03T01:34:53.620996Z"
    }
   },
   "source": [
    "### CRIAR MODELO"
   ]
  },
  {
   "cell_type": "code",
   "execution_count": 53,
   "id": "ae7b1a6c",
   "metadata": {
    "ExecuteTime": {
     "end_time": "2022-08-03T03:14:35.692206Z",
     "start_time": "2022-08-03T03:14:35.684206Z"
    }
   },
   "outputs": [],
   "source": [
    "modelo = RandomForestClassifier(n_estimators=100, n_jobs=-1, random_state=0)"
   ]
  },
  {
   "cell_type": "code",
   "execution_count": 4,
   "id": "502ca4a0",
   "metadata": {
    "ExecuteTime": {
     "end_time": "2022-08-03T02:42:33.093099Z",
     "start_time": "2022-08-03T02:42:33.064102Z"
    }
   },
   "outputs": [
    {
     "data": {
      "text/plain": [
       "male      577\n",
       "female    314\n",
       "Name: Sex, dtype: int64"
      ]
     },
     "execution_count": 4,
     "metadata": {},
     "output_type": "execute_result"
    }
   ],
   "source": [
    "pd.value_counts(train[\"Sex\"])"
   ]
  },
  {
   "cell_type": "markdown",
   "id": "103734ef",
   "metadata": {},
   "source": [
    "### DEFINIR FUNÇÕES"
   ]
  },
  {
   "cell_type": "code",
   "execution_count": 54,
   "id": "d490533a",
   "metadata": {
    "ExecuteTime": {
     "end_time": "2022-08-03T03:14:39.643947Z",
     "start_time": "2022-08-03T03:14:39.629949Z"
    }
   },
   "outputs": [],
   "source": [
    "def transformar_sexo(valor):\n",
    "    if valor == \"female\":\n",
    "        return 1\n",
    "    else:\n",
    "        return 0\n",
    "    \n",
    "train[\"Sex_binario\"] = train[\"Sex\"].map(transformar_sexo)\n",
    "test[\"Sex_binario\"] = test[\"Sex\"].map(transformar_sexo)"
   ]
  },
  {
   "cell_type": "markdown",
   "id": "2293b9ae",
   "metadata": {},
   "source": [
    "### DEFINIR VARIÁVEIS DE PREVISÃO"
   ]
  },
  {
   "cell_type": "code",
   "execution_count": 55,
   "id": "cae22ca1",
   "metadata": {
    "ExecuteTime": {
     "end_time": "2022-08-03T03:14:42.534760Z",
     "start_time": "2022-08-03T03:14:42.509762Z"
    }
   },
   "outputs": [
    {
     "data": {
      "text/html": [
       "<div>\n",
       "<style scoped>\n",
       "    .dataframe tbody tr th:only-of-type {\n",
       "        vertical-align: middle;\n",
       "    }\n",
       "\n",
       "    .dataframe tbody tr th {\n",
       "        vertical-align: top;\n",
       "    }\n",
       "\n",
       "    .dataframe thead th {\n",
       "        text-align: right;\n",
       "    }\n",
       "</style>\n",
       "<table border=\"1\" class=\"dataframe\">\n",
       "  <thead>\n",
       "    <tr style=\"text-align: right;\">\n",
       "      <th></th>\n",
       "      <th>Sex_binario</th>\n",
       "      <th>Age</th>\n",
       "    </tr>\n",
       "  </thead>\n",
       "  <tbody>\n",
       "    <tr>\n",
       "      <th>0</th>\n",
       "      <td>0</td>\n",
       "      <td>22.0</td>\n",
       "    </tr>\n",
       "    <tr>\n",
       "      <th>1</th>\n",
       "      <td>1</td>\n",
       "      <td>38.0</td>\n",
       "    </tr>\n",
       "    <tr>\n",
       "      <th>2</th>\n",
       "      <td>1</td>\n",
       "      <td>26.0</td>\n",
       "    </tr>\n",
       "    <tr>\n",
       "      <th>3</th>\n",
       "      <td>1</td>\n",
       "      <td>35.0</td>\n",
       "    </tr>\n",
       "    <tr>\n",
       "      <th>4</th>\n",
       "      <td>0</td>\n",
       "      <td>35.0</td>\n",
       "    </tr>\n",
       "  </tbody>\n",
       "</table>\n",
       "</div>"
      ],
      "text/plain": [
       "   Sex_binario   Age\n",
       "0            0  22.0\n",
       "1            1  38.0\n",
       "2            1  26.0\n",
       "3            1  35.0\n",
       "4            0  35.0"
      ]
     },
     "execution_count": 55,
     "metadata": {},
     "output_type": "execute_result"
    }
   ],
   "source": [
    "X = train[variaveis]\n",
    "y = train[\"Survived\"]\n",
    "\n",
    "X = X.fillna(-1)\n",
    "X.head()"
   ]
  },
  {
   "cell_type": "markdown",
   "id": "dffef62b",
   "metadata": {},
   "source": [
    "### POPULAR NOSSO MODELO COM OS DADOS"
   ]
  },
  {
   "cell_type": "code",
   "execution_count": 56,
   "id": "ba5933dc",
   "metadata": {
    "ExecuteTime": {
     "end_time": "2022-08-03T03:14:45.886541Z",
     "start_time": "2022-08-03T03:14:45.340579Z"
    }
   },
   "outputs": [
    {
     "data": {
      "text/plain": [
       "RandomForestClassifier(n_jobs=-1, random_state=0)"
      ]
     },
     "execution_count": 56,
     "metadata": {},
     "output_type": "execute_result"
    }
   ],
   "source": [
    "modelo.fit(X, y)"
   ]
  },
  {
   "cell_type": "code",
   "execution_count": 57,
   "id": "25c87f67",
   "metadata": {
    "ExecuteTime": {
     "end_time": "2022-08-03T03:14:50.944250Z",
     "start_time": "2022-08-03T03:14:50.913216Z"
    }
   },
   "outputs": [
    {
     "data": {
      "text/html": [
       "<div>\n",
       "<style scoped>\n",
       "    .dataframe tbody tr th:only-of-type {\n",
       "        vertical-align: middle;\n",
       "    }\n",
       "\n",
       "    .dataframe tbody tr th {\n",
       "        vertical-align: top;\n",
       "    }\n",
       "\n",
       "    .dataframe thead th {\n",
       "        text-align: right;\n",
       "    }\n",
       "</style>\n",
       "<table border=\"1\" class=\"dataframe\">\n",
       "  <thead>\n",
       "    <tr style=\"text-align: right;\">\n",
       "      <th></th>\n",
       "      <th>Sex_binario</th>\n",
       "      <th>Age</th>\n",
       "    </tr>\n",
       "  </thead>\n",
       "  <tbody>\n",
       "    <tr>\n",
       "      <th>0</th>\n",
       "      <td>0</td>\n",
       "      <td>34.5</td>\n",
       "    </tr>\n",
       "    <tr>\n",
       "      <th>1</th>\n",
       "      <td>1</td>\n",
       "      <td>47.0</td>\n",
       "    </tr>\n",
       "    <tr>\n",
       "      <th>2</th>\n",
       "      <td>0</td>\n",
       "      <td>62.0</td>\n",
       "    </tr>\n",
       "    <tr>\n",
       "      <th>3</th>\n",
       "      <td>0</td>\n",
       "      <td>27.0</td>\n",
       "    </tr>\n",
       "    <tr>\n",
       "      <th>4</th>\n",
       "      <td>1</td>\n",
       "      <td>22.0</td>\n",
       "    </tr>\n",
       "  </tbody>\n",
       "</table>\n",
       "</div>"
      ],
      "text/plain": [
       "   Sex_binario   Age\n",
       "0            0  34.5\n",
       "1            1  47.0\n",
       "2            0  62.0\n",
       "3            0  27.0\n",
       "4            1  22.0"
      ]
     },
     "execution_count": 57,
     "metadata": {},
     "output_type": "execute_result"
    }
   ],
   "source": [
    "variaveis = [\"Sex_binario\", \"Age\"]\n",
    "X_prev = test[variaveis]\n",
    "X_prev = X_prev.fillna(-1)\n",
    "\n",
    "X_prev.head()"
   ]
  },
  {
   "cell_type": "markdown",
   "id": "1a6a5d06",
   "metadata": {},
   "source": [
    "### PREVÊ NOSSA VARIÁVEL E INDEXAÇÃO"
   ]
  },
  {
   "cell_type": "code",
   "execution_count": 58,
   "id": "2147d4ce",
   "metadata": {
    "ExecuteTime": {
     "end_time": "2022-08-03T03:14:54.953953Z",
     "start_time": "2022-08-03T03:14:54.869959Z"
    }
   },
   "outputs": [],
   "source": [
    "p = modelo.predict(X_prev)\n",
    "sub = pd.Series(p, index=test[\"PassengerId\"], name=\"Survived\")"
   ]
  },
  {
   "cell_type": "code",
   "execution_count": 24,
   "id": "a6a185aa",
   "metadata": {
    "ExecuteTime": {
     "end_time": "2022-08-03T02:45:45.725026Z",
     "start_time": "2022-08-03T02:45:45.714027Z"
    }
   },
   "outputs": [
    {
     "data": {
      "text/plain": [
       "Index(['PassengerId', 'Pclass', 'Name', 'Sex', 'Age', 'SibSp', 'Parch',\n",
       "       'Ticket', 'Fare', 'Cabin', 'Embarked', 'Sex_binario'],\n",
       "      dtype='object')"
      ]
     },
     "execution_count": 24,
     "metadata": {},
     "output_type": "execute_result"
    }
   ],
   "source": [
    "test.columns"
   ]
  },
  {
   "cell_type": "markdown",
   "id": "49c48c10",
   "metadata": {},
   "source": [
    "### SALVO A PREVISÃO"
   ]
  },
  {
   "cell_type": "code",
   "execution_count": 25,
   "id": "1cb10769",
   "metadata": {
    "ExecuteTime": {
     "end_time": "2022-08-03T02:45:51.050679Z",
     "start_time": "2022-08-03T02:45:51.036681Z"
    }
   },
   "outputs": [
    {
     "data": {
      "text/plain": [
       "(418,)"
      ]
     },
     "execution_count": 25,
     "metadata": {},
     "output_type": "execute_result"
    }
   ],
   "source": [
    "sub.shape"
   ]
  },
  {
   "cell_type": "code",
   "execution_count": 36,
   "id": "31baadc6",
   "metadata": {
    "ExecuteTime": {
     "end_time": "2022-08-03T02:49:18.554024Z",
     "start_time": "2022-08-03T02:49:18.533025Z"
    }
   },
   "outputs": [],
   "source": [
    "sub.to_csv(\"Primeiro_modelo.csv\", header=\"True\")"
   ]
  },
  {
   "cell_type": "code",
   "execution_count": 27,
   "id": "d6feffb9",
   "metadata": {
    "ExecuteTime": {
     "end_time": "2022-08-03T02:46:09.175503Z",
     "start_time": "2022-08-03T02:46:08.771529Z"
    }
   },
   "outputs": [
    {
     "name": "stdout",
     "output_type": "stream",
     "text": [
      "PassengerId,Survived\n",
      "892,0\n",
      "893,0\n",
      "894,1\n",
      "895,1\n",
      "896,1\n",
      "897,0\n",
      "898,0\n",
      "899,0\n",
      "900,0\n"
     ]
    }
   ],
   "source": [
    "!head -n10 Primeiro_modelo.csv"
   ]
  },
  {
   "cell_type": "code",
   "execution_count": 41,
   "id": "165ac539",
   "metadata": {
    "ExecuteTime": {
     "end_time": "2022-08-03T03:03:27.485745Z",
     "start_time": "2022-08-03T03:03:27.472748Z"
    }
   },
   "outputs": [],
   "source": [
    "X_falso = np.arange(10)"
   ]
  },
  {
   "cell_type": "code",
   "execution_count": 49,
   "id": "ca91552a",
   "metadata": {
    "ExecuteTime": {
     "end_time": "2022-08-03T03:10:08.440618Z",
     "start_time": "2022-08-03T03:10:08.417594Z"
    }
   },
   "outputs": [
    {
     "data": {
      "text/plain": [
       "[array([6, 7, 3, 0, 5]), array([2, 8, 4, 9, 1])]"
      ]
     },
     "execution_count": 49,
     "metadata": {},
     "output_type": "execute_result"
    }
   ],
   "source": [
    "np.random.seed(0)\n",
    "train_test_split(X_falso, test_size=0.5)"
   ]
  },
  {
   "cell_type": "code",
   "execution_count": 61,
   "id": "df37b7e2",
   "metadata": {
    "ExecuteTime": {
     "end_time": "2022-08-03T03:15:40.259008Z",
     "start_time": "2022-08-03T03:15:40.244010Z"
    }
   },
   "outputs": [],
   "source": [
    "X_train, X_valid, y_train, y_valid = train_test_split(X, y, test_size=0.5)"
   ]
  },
  {
   "cell_type": "code",
   "execution_count": 63,
   "id": "580c9fe3",
   "metadata": {
    "ExecuteTime": {
     "end_time": "2022-08-03T03:15:58.086079Z",
     "start_time": "2022-08-03T03:15:58.062053Z"
    }
   },
   "outputs": [
    {
     "data": {
      "text/plain": [
       "(445, 2)"
      ]
     },
     "execution_count": 63,
     "metadata": {},
     "output_type": "execute_result"
    }
   ],
   "source": [
    "X_train.shape"
   ]
  },
  {
   "cell_type": "code",
   "execution_count": 64,
   "id": "10b92e39",
   "metadata": {
    "ExecuteTime": {
     "end_time": "2022-08-03T03:17:54.662619Z",
     "start_time": "2022-08-03T03:17:54.192650Z"
    }
   },
   "outputs": [
    {
     "data": {
      "text/plain": [
       "RandomForestClassifier(n_jobs=-1, random_state=0)"
      ]
     },
     "execution_count": 64,
     "metadata": {},
     "output_type": "execute_result"
    }
   ],
   "source": [
    "modelo.fit(X_train, y_train)"
   ]
  },
  {
   "cell_type": "code",
   "execution_count": 66,
   "id": "f21cabdf",
   "metadata": {
    "ExecuteTime": {
     "end_time": "2022-08-03T03:19:04.878720Z",
     "start_time": "2022-08-03T03:19:04.793725Z"
    }
   },
   "outputs": [],
   "source": [
    "p = modelo.predict(X_valid)"
   ]
  },
  {
   "cell_type": "code",
   "execution_count": 67,
   "id": "fefd520b",
   "metadata": {
    "ExecuteTime": {
     "end_time": "2022-08-03T03:22:15.113623Z",
     "start_time": "2022-08-03T03:22:14.951634Z"
    }
   },
   "outputs": [
    {
     "data": {
      "text/plain": [
       "0.7668161434977578"
      ]
     },
     "execution_count": 67,
     "metadata": {},
     "output_type": "execute_result"
    }
   ],
   "source": [
    "np.mean(y_valid == p)"
   ]
  },
  {
   "cell_type": "code",
   "execution_count": 68,
   "id": "c52f2fa9",
   "metadata": {
    "ExecuteTime": {
     "end_time": "2022-08-03T03:24:44.605379Z",
     "start_time": "2022-08-03T03:24:44.589381Z"
    }
   },
   "outputs": [
    {
     "data": {
      "text/plain": [
       "0.7892376681614349"
      ]
     },
     "execution_count": 68,
     "metadata": {},
     "output_type": "execute_result"
    }
   ],
   "source": [
    "#Teste colocando todas as mulheres como sobreviventes.\n",
    "p = (X_valid[\"Sex_binario\"] == 1).astype(np.int64)\n",
    "np.mean(y_valid == p)"
   ]
  },
  {
   "cell_type": "code",
   "execution_count": null,
   "id": "d9086539",
   "metadata": {},
   "outputs": [],
   "source": []
  }
 ],
 "metadata": {
  "kernelspec": {
   "display_name": "Python 3",
   "language": "python",
   "name": "python3"
  },
  "language_info": {
   "codemirror_mode": {
    "name": "ipython",
    "version": 3
   },
   "file_extension": ".py",
   "mimetype": "text/x-python",
   "name": "python",
   "nbconvert_exporter": "python",
   "pygments_lexer": "ipython3",
   "version": "3.8.8"
  }
 },
 "nbformat": 4,
 "nbformat_minor": 5
}
