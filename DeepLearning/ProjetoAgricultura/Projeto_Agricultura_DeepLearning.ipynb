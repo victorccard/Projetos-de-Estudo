{
 "cells": [
  {
   "cell_type": "markdown",
   "id": "741b2598",
   "metadata": {},
   "source": [
    "## Mini-Projeto 4 - Inteligência Artificial na Agricultura "
   ]
  },
  {
   "cell_type": "code",
   "execution_count": 73,
   "id": "30c86421",
   "metadata": {
    "ExecuteTime": {
     "end_time": "2022-10-25T15:29:37.434374Z",
     "start_time": "2022-10-25T15:29:37.412831Z"
    }
   },
   "outputs": [],
   "source": [
    "# Imports\n",
    "import sklearn\n",
    "import numpy as np\n",
    "import tensorflow as tf\n",
    "import matplotlib.pyplot as plt\n",
    "from pathlib import Path\n",
    "from sklearn.preprocessing import LabelEncoder\n",
    "from sklearn.model_selection import train_test_split\n",
    "from tensorflow.keras.layers.experimental.preprocessing import RandomFlip\n",
    "from tensorflow.keras.layers.experimental.preprocessing import RandomRotation\n",
    "from tensorflow.keras.layers.experimental.preprocessing import RandomZoom\n",
    "from tensorflow.keras.applications import EfficientNetB3\n",
    "from tensorflow.keras.optimizers import Adam\n",
    "from tensorflow.keras.metrics import Precision\n",
    "from tensorflow.keras.metrics import Recall"
   ]
  },
  {
   "cell_type": "code",
   "execution_count": 74,
   "id": "18b6a78b",
   "metadata": {
    "ExecuteTime": {
     "end_time": "2022-10-25T15:29:38.018549Z",
     "start_time": "2022-10-25T15:29:37.595115Z"
    }
   },
   "outputs": [],
   "source": [
    "#Seed para reprodutibilidade\n",
    "tf.random.set_seed(4)"
   ]
  },
  {
   "cell_type": "code",
   "execution_count": 75,
   "id": "5d113128",
   "metadata": {
    "ExecuteTime": {
     "end_time": "2022-10-25T15:29:38.097648Z",
     "start_time": "2022-10-25T15:29:38.086377Z"
    }
   },
   "outputs": [
    {
     "name": "stdout",
     "output_type": "stream",
     "text": [
      "C:\\Users\\victo\\Downloads\\PythonFundamentos-master\\PythonFundamentos-master\\Cap12\n"
     ]
    }
   ],
   "source": [
    "#Diretório atual\n",
    "diretorio_atual = Path.cwd()\n",
    "print(diretorio_atual)"
   ]
  },
  {
   "cell_type": "code",
   "execution_count": 76,
   "id": "be39e871",
   "metadata": {
    "ExecuteTime": {
     "end_time": "2022-10-25T15:29:38.175105Z",
     "start_time": "2022-10-25T15:29:38.162586Z"
    }
   },
   "outputs": [],
   "source": [
    "#Caminho para os dados de treino\n",
    "caminho_dados_treino = Path(\"fruits-360//Training\")"
   ]
  },
  {
   "cell_type": "code",
   "execution_count": 77,
   "id": "597be807",
   "metadata": {
    "ExecuteTime": {
     "end_time": "2022-10-25T15:29:38.253177Z",
     "start_time": "2022-10-25T15:29:38.242179Z"
    }
   },
   "outputs": [],
   "source": [
    "#Caminho para os dados de teste\n",
    "caminho_dados_teste = Path(\"fruits-360//Test\")"
   ]
  },
  {
   "cell_type": "code",
   "execution_count": 78,
   "id": "9f5a3ef2",
   "metadata": {
    "ExecuteTime": {
     "end_time": "2022-10-25T15:29:38.362169Z",
     "start_time": "2022-10-25T15:29:38.318982Z"
    }
   },
   "outputs": [],
   "source": [
    "# Listando o conteúdo da pasta\n",
    "imagens_treino = list(caminho_dados_treino.glob(\"*/*\"))"
   ]
  },
  {
   "cell_type": "code",
   "execution_count": 79,
   "id": "c5c732eb",
   "metadata": {
    "ExecuteTime": {
     "end_time": "2022-10-25T15:29:38.455155Z",
     "start_time": "2022-10-25T15:29:38.442591Z"
    }
   },
   "outputs": [
    {
     "data": {
      "text/plain": [
       "[WindowsPath('fruits-360/Training/apple_crimson_snow_1/r1_48.jpg'),\n",
       " WindowsPath('fruits-360/Training/apple_crimson_snow_1/r1_50.jpg'),\n",
       " WindowsPath('fruits-360/Training/apple_crimson_snow_1/r1_52.jpg'),\n",
       " WindowsPath('fruits-360/Training/apple_crimson_snow_1/r1_54.jpg'),\n",
       " WindowsPath('fruits-360/Training/apple_crimson_snow_1/r1_56.jpg'),\n",
       " WindowsPath('fruits-360/Training/apple_crimson_snow_1/r1_58.jpg'),\n",
       " WindowsPath('fruits-360/Training/apple_crimson_snow_1/r1_6.jpg'),\n",
       " WindowsPath('fruits-360/Training/apple_crimson_snow_1/r1_60.jpg'),\n",
       " WindowsPath('fruits-360/Training/apple_crimson_snow_1/r1_62.jpg'),\n",
       " WindowsPath('fruits-360/Training/apple_crimson_snow_1/r1_64.jpg'),\n",
       " WindowsPath('fruits-360/Training/apple_crimson_snow_1/r1_66.jpg')]"
      ]
     },
     "execution_count": 79,
     "metadata": {},
     "output_type": "execute_result"
    }
   ],
   "source": [
    "# Visualiza uma amostra da lista\n",
    "imagens_treino[925:936]"
   ]
  },
  {
   "cell_type": "code",
   "execution_count": 80,
   "id": "bf746084",
   "metadata": {
    "ExecuteTime": {
     "end_time": "2022-10-25T15:29:38.531614Z",
     "start_time": "2022-10-25T15:29:38.520180Z"
    }
   },
   "outputs": [],
   "source": [
    "#Expressão labda que extrai apenas o valor com o caminho de cada imagem\n",
    "imagens_treino = list(map(lambda x: str(x), imagens_treino))"
   ]
  },
  {
   "cell_type": "code",
   "execution_count": 81,
   "id": "28b4d67c",
   "metadata": {
    "ExecuteTime": {
     "end_time": "2022-10-25T15:29:38.736299Z",
     "start_time": "2022-10-25T15:29:38.717550Z"
    }
   },
   "outputs": [
    {
     "data": {
      "text/plain": [
       "['fruits-360\\\\Training\\\\apple_crimson_snow_1\\\\r1_48.jpg',\n",
       " 'fruits-360\\\\Training\\\\apple_crimson_snow_1\\\\r1_50.jpg',\n",
       " 'fruits-360\\\\Training\\\\apple_crimson_snow_1\\\\r1_52.jpg',\n",
       " 'fruits-360\\\\Training\\\\apple_crimson_snow_1\\\\r1_54.jpg',\n",
       " 'fruits-360\\\\Training\\\\apple_crimson_snow_1\\\\r1_56.jpg',\n",
       " 'fruits-360\\\\Training\\\\apple_crimson_snow_1\\\\r1_58.jpg',\n",
       " 'fruits-360\\\\Training\\\\apple_crimson_snow_1\\\\r1_6.jpg',\n",
       " 'fruits-360\\\\Training\\\\apple_crimson_snow_1\\\\r1_60.jpg',\n",
       " 'fruits-360\\\\Training\\\\apple_crimson_snow_1\\\\r1_62.jpg',\n",
       " 'fruits-360\\\\Training\\\\apple_crimson_snow_1\\\\r1_64.jpg',\n",
       " 'fruits-360\\\\Training\\\\apple_crimson_snow_1\\\\r1_66.jpg']"
      ]
     },
     "execution_count": 81,
     "metadata": {},
     "output_type": "execute_result"
    }
   ],
   "source": [
    "#Visualiza uma amostra da lista\n",
    "imagens_treino[925:936]"
   ]
  },
  {
   "cell_type": "code",
   "execution_count": 82,
   "id": "3210b0ed",
   "metadata": {
    "ExecuteTime": {
     "end_time": "2022-10-25T15:29:38.923449Z",
     "start_time": "2022-10-25T15:29:38.908436Z"
    }
   },
   "outputs": [
    {
     "data": {
      "text/plain": [
       "6231"
      ]
     },
     "execution_count": 82,
     "metadata": {},
     "output_type": "execute_result"
    }
   ],
   "source": [
    "#Total de imagens de treino\n",
    "len(imagens_treino)"
   ]
  },
  {
   "cell_type": "markdown",
   "id": "afa66703",
   "metadata": {},
   "source": [
    "## Pré-Processamento dos Dados"
   ]
  },
  {
   "cell_type": "code",
   "execution_count": 83,
   "id": "9baa60e1",
   "metadata": {
    "ExecuteTime": {
     "end_time": "2022-10-25T15:29:39.206074Z",
     "start_time": "2022-10-25T15:29:39.189064Z"
    }
   },
   "outputs": [],
   "source": [
    "#Função que obtém o label de cada imagem\n",
    "def extrai_label(caminho_imagem):\n",
    "    return caminho_imagem.split(\"/\")[-1]"
   ]
  },
  {
   "cell_type": "code",
   "execution_count": 84,
   "id": "fc2f2e65",
   "metadata": {
    "ExecuteTime": {
     "end_time": "2022-10-25T15:29:39.582061Z",
     "start_time": "2022-10-25T15:29:39.574523Z"
    }
   },
   "outputs": [],
   "source": [
    "#Aplicar a função\n",
    "imagens_treino_labels = list(map(lambda x: extrai_label(x), imagens_treino))"
   ]
  },
  {
   "cell_type": "code",
   "execution_count": 85,
   "id": "c45c6ccc",
   "metadata": {
    "ExecuteTime": {
     "end_time": "2022-10-25T15:29:39.753021Z",
     "start_time": "2022-10-25T15:29:39.733399Z"
    },
    "scrolled": true
   },
   "outputs": [
    {
     "data": {
      "text/plain": [
       "['fruits-360\\\\Training\\\\apple_crimson_snow_1\\\\r1_182.jpg',\n",
       " 'fruits-360\\\\Training\\\\apple_crimson_snow_1\\\\r1_184.jpg',\n",
       " 'fruits-360\\\\Training\\\\apple_crimson_snow_1\\\\r1_186.jpg',\n",
       " 'fruits-360\\\\Training\\\\apple_crimson_snow_1\\\\r1_188.jpg',\n",
       " 'fruits-360\\\\Training\\\\apple_crimson_snow_1\\\\r1_190.jpg',\n",
       " 'fruits-360\\\\Training\\\\apple_crimson_snow_1\\\\r1_192.jpg']"
      ]
     },
     "execution_count": 85,
     "metadata": {},
     "output_type": "execute_result"
    }
   ],
   "source": [
    "#Visualiza uma amostra\n",
    "imagens_treino_labels[840:846]"
   ]
  },
  {
   "cell_type": "code",
   "execution_count": 86,
   "id": "d1b567be",
   "metadata": {
    "ExecuteTime": {
     "end_time": "2022-10-25T15:29:39.910185Z",
     "start_time": "2022-10-25T15:29:39.901236Z"
    }
   },
   "outputs": [],
   "source": [
    "#Cria o objeto\n",
    "encoder = LabelEncoder()"
   ]
  },
  {
   "cell_type": "code",
   "execution_count": 87,
   "id": "4d201ced",
   "metadata": {
    "ExecuteTime": {
     "end_time": "2022-10-25T15:29:40.207705Z",
     "start_time": "2022-10-25T15:29:40.180693Z"
    }
   },
   "outputs": [],
   "source": [
    "#Aplica o fit_transform\n",
    "imagens_treino_labels = encoder.fit_transform(imagens_treino_labels)"
   ]
  },
  {
   "cell_type": "code",
   "execution_count": 88,
   "id": "eeafcffe",
   "metadata": {
    "ExecuteTime": {
     "end_time": "2022-10-25T15:29:40.378386Z",
     "start_time": "2022-10-25T15:29:40.366012Z"
    }
   },
   "outputs": [
    {
     "data": {
      "text/plain": [
       "array([840, 841, 842, 843, 844, 845], dtype=int64)"
      ]
     },
     "execution_count": 88,
     "metadata": {},
     "output_type": "execute_result"
    }
   ],
   "source": [
    "#Visualiza uma amostra\n",
    "imagens_treino_labels[840:846]"
   ]
  },
  {
   "cell_type": "code",
   "execution_count": 89,
   "id": "922cf056",
   "metadata": {
    "ExecuteTime": {
     "end_time": "2022-10-25T15:29:40.581863Z",
     "start_time": "2022-10-25T15:29:40.564184Z"
    }
   },
   "outputs": [],
   "source": [
    "#Aplicamos One-Hot_Enconding nos labels\n",
    "imagens_treino_labels = tf.keras.utils.to_categorical(imagens_treino_labels)"
   ]
  },
  {
   "cell_type": "code",
   "execution_count": 90,
   "id": "ff78e6a6",
   "metadata": {
    "ExecuteTime": {
     "end_time": "2022-10-25T15:29:40.766871Z",
     "start_time": "2022-10-25T15:29:40.756943Z"
    }
   },
   "outputs": [
    {
     "data": {
      "text/plain": [
       "array([[0., 0., 0., ..., 0., 0., 0.],\n",
       "       [0., 0., 0., ..., 0., 0., 0.],\n",
       "       [0., 0., 0., ..., 0., 0., 0.],\n",
       "       [0., 0., 0., ..., 0., 0., 0.],\n",
       "       [0., 0., 0., ..., 0., 0., 0.],\n",
       "       [0., 0., 0., ..., 0., 0., 0.]], dtype=float32)"
      ]
     },
     "execution_count": 90,
     "metadata": {},
     "output_type": "execute_result"
    }
   ],
   "source": [
    "#Visualiza uma amostra\n",
    "imagens_treino_labels[840:846]"
   ]
  },
  {
   "cell_type": "code",
   "execution_count": 91,
   "id": "c284542e",
   "metadata": {
    "ExecuteTime": {
     "end_time": "2022-10-25T15:29:41.143951Z",
     "start_time": "2022-10-25T15:29:41.069667Z"
    }
   },
   "outputs": [],
   "source": [
    "#Dividimos os dados de treino em duas amostras, treino e validação\n",
    "X_treino, X_valid, y_treino, y_valid = train_test_split(imagens_treino, imagens_treino_labels)"
   ]
  },
  {
   "cell_type": "markdown",
   "id": "c8ac0734",
   "metadata": {},
   "source": [
    "## Dataset Augmentation"
   ]
  },
  {
   "cell_type": "code",
   "execution_count": 92,
   "id": "9b5783eb",
   "metadata": {
    "ExecuteTime": {
     "end_time": "2022-10-25T15:29:41.790669Z",
     "start_time": "2022-10-25T15:29:41.756975Z"
    }
   },
   "outputs": [],
   "source": [
    "#Redimensionamento de todas as imagens para 224 x 224\n",
    "img_size = 224\n",
    "resize = tf.keras.Sequential([tf.keras.layers.experimental.preprocessing.Resizing(img_size, img_size)])"
   ]
  },
  {
   "cell_type": "code",
   "execution_count": 93,
   "id": "0245289d",
   "metadata": {
    "ExecuteTime": {
     "end_time": "2022-10-25T15:29:42.150077Z",
     "start_time": "2022-10-25T15:29:42.134067Z"
    }
   },
   "outputs": [],
   "source": [
    "#Cria o objeto para dataset augmentation\n",
    "data_augmentation = tf.keras.Sequential([RandomFlip(\"horizontal\"),\n",
    "                                        RandomRotation(0.2),\n",
    "                                        RandomZoom(height_factor=(-0.3,-0.2)) ])"
   ]
  },
  {
   "cell_type": "markdown",
   "id": "9760c03b",
   "metadata": {},
   "source": [
    "## Preparando os Dados"
   ]
  },
  {
   "cell_type": "code",
   "execution_count": 94,
   "id": "0cf07d5d",
   "metadata": {
    "ExecuteTime": {
     "end_time": "2022-10-25T15:29:43.080690Z",
     "start_time": "2022-10-25T15:29:43.069567Z"
    }
   },
   "outputs": [],
   "source": [
    "#Hiperparâmetros\n",
    "batch_size = 32\n",
    "autotune = tf.data.experimental.AUTOTUNE"
   ]
  },
  {
   "cell_type": "code",
   "execution_count": 95,
   "id": "d3c8936c",
   "metadata": {
    "ExecuteTime": {
     "end_time": "2022-10-25T15:29:43.549427Z",
     "start_time": "2022-10-25T15:29:43.540445Z"
    }
   },
   "outputs": [],
   "source": [
    "#Função para carregar e transformar as imagens\n",
    "def carrega_transforma(image, label):\n",
    "    image = tf.io.read_file(image)\n",
    "    image = tf.io.decode_jpeg(image, channels= 3)\n",
    "    return image, label"
   ]
  },
  {
   "cell_type": "code",
   "execution_count": 96,
   "id": "39da9d51",
   "metadata": {
    "ExecuteTime": {
     "end_time": "2022-10-25T15:29:44.046497Z",
     "start_time": "2022-10-25T15:29:44.023508Z"
    }
   },
   "outputs": [],
   "source": [
    "# Função para preparar os dados noo formato do TensorFlow\n",
    "def prepara_dataset(path, labels, train = True):\n",
    "\n",
    "    # Prepara os dados\n",
    "    image_paths = tf.convert_to_tensor(path)\n",
    "    labels = tf.convert_to_tensor(labels)\n",
    "    image_dataset = tf.data.Dataset.from_tensor_slices(image_paths)\n",
    "    label_dataset = tf.data.Dataset.from_tensor_slices(labels)\n",
    "    dataset = tf.data.Dataset.zip((image_dataset, label_dataset))\n",
    "    dataset = dataset.map(lambda image, label: carrega_transforma(image, label)) \n",
    "    dataset = dataset.map(lambda image, label: (resize(image), label), num_parallel_calls = autotune)\n",
    "    dataset = dataset.shuffle(1000)\n",
    "    dataset = dataset.batch(batch_size)\n",
    "\n",
    "    # Se train = True aplica dataset augmentation\n",
    "    if train:\n",
    "        dataset = dataset.map(lambda image, label: (data_augmentation(image), label), num_parallel_calls = autotune)\n",
    "  \n",
    "    # Se train = False repete sobre o dataset e retorna\n",
    "    dataset = dataset.repeat()\n",
    "\n",
    "    return dataset"
   ]
  },
  {
   "cell_type": "code",
   "execution_count": 97,
   "id": "ef00d248",
   "metadata": {
    "ExecuteTime": {
     "end_time": "2022-10-25T15:29:45.136620Z",
     "start_time": "2022-10-25T15:29:44.924987Z"
    }
   },
   "outputs": [],
   "source": [
    "#Cria o dataset de treino\n",
    "dataset_treino = prepara_dataset(X_treino, y_treino)"
   ]
  },
  {
   "cell_type": "code",
   "execution_count": 98,
   "id": "e5399521",
   "metadata": {
    "ExecuteTime": {
     "end_time": "2022-10-25T15:29:47.692601Z",
     "start_time": "2022-10-25T15:29:45.781592Z"
    }
   },
   "outputs": [
    {
     "name": "stdout",
     "output_type": "stream",
     "text": [
      "(32, 224, 224, 3)\n",
      "(32, 6231)\n"
     ]
    }
   ],
   "source": [
    "#Shape\n",
    "imagem, label = next(iter(dataset_treino))\n",
    "print(imagem.shape)\n",
    "print(label.shape)"
   ]
  },
  {
   "cell_type": "code",
   "execution_count": 99,
   "id": "fe97b860",
   "metadata": {
    "ExecuteTime": {
     "end_time": "2022-10-25T15:29:47.969396Z",
     "start_time": "2022-10-25T15:29:47.761378Z"
    }
   },
   "outputs": [
    {
     "name": "stdout",
     "output_type": "stream",
     "text": [
      "fruits-360\\Training\\apple_hit_1\\r2_168.jpg\n"
     ]
    },
    {
     "data": {
      "text/plain": [
       "<matplotlib.image.AxesImage at 0x250a5edce20>"
      ]
     },
     "execution_count": 99,
     "metadata": {},
     "output_type": "execute_result"
    },
    {
     "data": {
      "image/png": "[encoded data removed]",
      "text/plain": [
       "<Figure size 640x480 with 1 Axes>"
      ]
     },
     "metadata": {},
     "output_type": "display_data"
    }
   ],
   "source": [
    "#Vamos visualizar uma imagem e um label\n",
    "print(encoder.inverse_transform(np.argmax(label, axis= 1 )) [0])\n",
    "plt.imshow((imagem[0].numpy()/255).reshape(224,224,3))"
   ]
  },
  {
   "cell_type": "code",
   "execution_count": 100,
   "id": "4e305592",
   "metadata": {
    "ExecuteTime": {
     "end_time": "2022-10-25T15:29:48.083838Z",
     "start_time": "2022-10-25T15:29:48.041590Z"
    }
   },
   "outputs": [],
   "source": [
    "#Cria o dataset de validação\n",
    "dataset_valid = prepara_dataset(X_valid, y_valid, train= False)"
   ]
  },
  {
   "cell_type": "code",
   "execution_count": 101,
   "id": "46688380",
   "metadata": {
    "ExecuteTime": {
     "end_time": "2022-10-25T15:29:50.018020Z",
     "start_time": "2022-10-25T15:29:48.150854Z"
    }
   },
   "outputs": [
    {
     "name": "stdout",
     "output_type": "stream",
     "text": [
      "(32, 224, 224, 3)\n",
      "(32, 6231)\n"
     ]
    }
   ],
   "source": [
    "#Shape\n",
    "imagem, label = next(iter(dataset_valid))\n",
    "print(imagem.shape)\n",
    "print(label.shape)"
   ]
  },
  {
   "cell_type": "markdown",
   "id": "6eed77a0",
   "metadata": {},
   "source": [
    "## Construção do modelo"
   ]
  },
  {
   "cell_type": "code",
   "execution_count": 102,
   "id": "7aa9bd41",
   "metadata": {
    "ExecuteTime": {
     "end_time": "2022-10-25T15:29:53.074020Z",
     "start_time": "2022-10-25T15:29:50.083338Z"
    }
   },
   "outputs": [],
   "source": [
    "#Carregando um modelo pré-treinado\n",
    "modelo_pre = EfficientNetB3(input_shape= (224,224,3), include_top = False)"
   ]
  },
  {
   "cell_type": "code",
   "execution_count": 103,
   "id": "79d82340",
   "metadata": {
    "ExecuteTime": {
     "end_time": "2022-10-25T15:29:54.187880Z",
     "start_time": "2022-10-25T15:29:53.140529Z"
    }
   },
   "outputs": [],
   "source": [
    "#Adicionando nossas próprias camadas ao modelo_pre\n",
    "modelo = tf.keras.Sequential([modelo_pre,\n",
    "                             tf.keras.layers.GlobalAveragePooling2D(),\n",
    "                             tf.keras.layers.Dense(6231, activation='softmax')])"
   ]
  },
  {
   "cell_type": "code",
   "execution_count": 104,
   "id": "f1da905d",
   "metadata": {
    "ExecuteTime": {
     "end_time": "2022-10-25T15:29:54.298706Z",
     "start_time": "2022-10-25T15:29:54.253829Z"
    }
   },
   "outputs": [
    {
     "name": "stdout",
     "output_type": "stream",
     "text": [
      "Model: \"sequential_6\"\n",
      "_________________________________________________________________\n",
      " Layer (type)                Output Shape              Param #   \n",
      "=================================================================\n",
      " efficientnetb3 (Functional)  (None, 7, 7, 1536)       10783535  \n",
      "                                                                 \n",
      " global_average_pooling2d_2   (None, 1536)             0         \n",
      " (GlobalAveragePooling2D)                                        \n",
      "                                                                 \n",
      " dense_2 (Dense)             (None, 6231)              9577047   \n",
      "                                                                 \n",
      "=================================================================\n",
      "Total params: 20,360,582\n",
      "Trainable params: 20,273,279\n",
      "Non-trainable params: 87,303\n",
      "_________________________________________________________________\n"
     ]
    }
   ],
   "source": [
    "#Sumário do modelo\n",
    "modelo.summary()"
   ]
  },
  {
   "cell_type": "code",
   "execution_count": 105,
   "id": "467b0224",
   "metadata": {
    "ExecuteTime": {
     "end_time": "2022-10-25T15:29:54.377935Z",
     "start_time": "2022-10-25T15:29:54.366042Z"
    }
   },
   "outputs": [],
   "source": [
    "#Hiperparâmetros\n",
    "lr = 0.001\n",
    "beta1 = 0.9\n",
    "beta2 = 0.999\n",
    "ep = 1e-07"
   ]
  },
  {
   "cell_type": "code",
   "execution_count": 106,
   "id": "e5df707d",
   "metadata": {
    "ExecuteTime": {
     "end_time": "2022-10-25T15:29:54.473704Z",
     "start_time": "2022-10-25T15:29:54.446003Z"
    }
   },
   "outputs": [],
   "source": [
    "#Compilação do modelo\n",
    "modelo.compile(optimizer=Adam(learning_rate= lr,\n",
    "                             beta_1= beta1,\n",
    "                             beta_2= beta2,\n",
    "                             epsilon= ep),\n",
    "              loss = 'categorical_crossentropy',\n",
    "              metrics = ['accuracy', Precision(name = 'precision'), Recall(name= 'Recall')])"
   ]
  },
  {
   "cell_type": "code",
   "execution_count": 107,
   "id": "20e823e6",
   "metadata": {
    "ExecuteTime": {
     "end_time": "2022-10-25T15:54:01.011461Z",
     "start_time": "2022-10-25T15:29:54.541081Z"
    }
   },
   "outputs": [
    {
     "name": "stdout",
     "output_type": "stream",
     "text": [
      "146/146 [==============================] - 1446s 10s/step - loss: 8.6471 - accuracy: 0.0000e+00 - precision: 0.0000e+00 - Recall: 0.0000e+00 - val_loss: 33.4237 - val_accuracy: 0.0000e+00 - val_precision: 0.0000e+00 - val_Recall: 0.0000e+00\n",
      "CPU times: total: 50min 45s\n",
      "Wall time: 24min 6s\n"
     ]
    }
   ],
   "source": [
    "%%time\n",
    "history = modelo.fit(dataset_treino,\n",
    "                     steps_per_epoch = len(X_treino)//batch_size,\n",
    "                     epochs = 1,\n",
    "                     validation_data = dataset_valid,\n",
    "                     validation_steps = len(y_treino)//batch_size)"
   ]
  },
  {
   "cell_type": "code",
   "execution_count": 108,
   "id": "d6b23add",
   "metadata": {
    "ExecuteTime": {
     "end_time": "2022-10-25T15:54:01.470889Z",
     "start_time": "2022-10-25T15:54:01.439262Z"
    }
   },
   "outputs": [],
   "source": [
    "#Não precisamos mais do modelo_pre\n",
    "modelo.layers[0].trainable = False"
   ]
  },
  {
   "cell_type": "code",
   "execution_count": 71,
   "id": "bcb7ba06",
   "metadata": {
    "ExecuteTime": {
     "end_time": "2022-10-25T15:27:49.813173Z",
     "start_time": "2022-10-25T15:27:49.803172Z"
    }
   },
   "outputs": [],
   "source": [
    "#Checkpoint\n",
    "checkpoint = tf.keras.callbacks.ModelCheckpoint(\"modelo/melhor_modelo.h5\",\n",
    "                                               verbose = 1,\n",
    "                                               save_best = True,\n",
    "                                               save_weight_only = True)"
   ]
  },
  {
   "cell_type": "code",
   "execution_count": 72,
   "id": "a255e579",
   "metadata": {
    "ExecuteTime": {
     "end_time": "2022-10-25T15:27:50.172796Z",
     "start_time": "2022-10-25T15:27:50.152831Z"
    }
   },
   "outputs": [],
   "source": [
    "#Early Stop\n",
    "early_stop = tf.keras.callbacks.EarlyStopping(patience = 4)"
   ]
  },
  {
   "cell_type": "code",
   "execution_count": 65,
   "id": "89472298",
   "metadata": {
    "ExecuteTime": {
     "end_time": "2022-10-25T14:47:03.146956Z",
     "start_time": "2022-10-25T14:47:03.089866Z"
    }
   },
   "outputs": [
    {
     "name": "stdout",
     "output_type": "stream",
     "text": [
      "Model: \"sequential_3\"\n",
      "_________________________________________________________________\n",
      " Layer (type)                Output Shape              Param #   \n",
      "=================================================================\n",
      " efficientnetb3 (Functional)  (None, 7, 7, 1536)       10783535  \n",
      "                                                                 \n",
      " global_average_pooling2d_1   (None, 1536)             0         \n",
      " (GlobalAveragePooling2D)                                        \n",
      "                                                                 \n",
      " dense_1 (Dense)             (None, 6231)              9577047   \n",
      "                                                                 \n",
      "=================================================================\n",
      "Total params: 20,360,582\n",
      "Trainable params: 9,577,047\n",
      "Non-trainable params: 10,783,535\n",
      "_________________________________________________________________\n"
     ]
    }
   ],
   "source": [
    "#Sumário\n",
    "modelo.summary()"
   ]
  },
  {
   "cell_type": "code",
   "execution_count": null,
   "id": "11a183be",
   "metadata": {},
   "outputs": [],
   "source": [
    "%%time\n",
    "history = modelo.fit(dataset_treino,\n",
    "                     steps_per_epoch = len(X_treino)//batch_size,\n",
    "                     epochs = 6,\n",
    "                     validation_data = dataset_valid,\n",
    "                     validation_steps = len(y_treino)//batch_size,\n",
    "                    callbacks= [checkpoint, early_stop])"
   ]
  },
  {
   "cell_type": "markdown",
   "id": "f79fe260",
   "metadata": {},
   "source": [
    "## Avaliação do Modelo"
   ]
  },
  {
   "cell_type": "code",
   "execution_count": 59,
   "id": "54904f1c",
   "metadata": {
    "ExecuteTime": {
     "end_time": "2022-10-25T14:45:53.100242Z",
     "start_time": "2022-10-25T14:45:53.078214Z"
    }
   },
   "outputs": [],
   "source": [
    "#Para carregar os pesos, precisamos descongelar as camadas\n",
    "modelo.layers[0].trainable = True"
   ]
  },
  {
   "cell_type": "code",
   "execution_count": 66,
   "id": "92cebc2c",
   "metadata": {
    "ExecuteTime": {
     "end_time": "2022-10-25T14:47:55.326830Z",
     "start_time": "2022-10-25T14:47:54.793931Z"
    },
    "collapsed": true
   },
   "outputs": [
    {
     "ename": "ValueError",
     "evalue": "axes don't match array",
     "output_type": "error",
     "traceback": [
      "\u001b[1;31m---------------------------------------------------------------------------\u001b[0m",
      "\u001b[1;31mValueError\u001b[0m                                Traceback (most recent call last)",
      "Input \u001b[1;32mIn [66]\u001b[0m, in \u001b[0;36m<cell line: 2>\u001b[1;34m()\u001b[0m\n\u001b[0;32m      1\u001b[0m \u001b[38;5;66;03m#Carrega os pesos do ponto de verificação e reavalie\u001b[39;00m\n\u001b[1;32m----> 2\u001b[0m \u001b[43mmodelo\u001b[49m\u001b[38;5;241;43m.\u001b[39;49m\u001b[43mload_weights\u001b[49m\u001b[43m(\u001b[49m\u001b[38;5;124;43m\"\u001b[39;49m\u001b[38;5;124;43mmodelo/melhor_modelo.h5\u001b[39;49m\u001b[38;5;124;43m\"\u001b[39;49m\u001b[43m)\u001b[49m\n",
      "File \u001b[1;32m~\\miniconda3\\lib\\site-packages\\keras\\utils\\traceback_utils.py:70\u001b[0m, in \u001b[0;36mfilter_traceback.<locals>.error_handler\u001b[1;34m(*args, **kwargs)\u001b[0m\n\u001b[0;32m     67\u001b[0m     filtered_tb \u001b[38;5;241m=\u001b[39m _process_traceback_frames(e\u001b[38;5;241m.\u001b[39m__traceback__)\n\u001b[0;32m     68\u001b[0m     \u001b[38;5;66;03m# To get the full stack trace, call:\u001b[39;00m\n\u001b[0;32m     69\u001b[0m     \u001b[38;5;66;03m# `tf.debugging.disable_traceback_filtering()`\u001b[39;00m\n\u001b[1;32m---> 70\u001b[0m     \u001b[38;5;28;01mraise\u001b[39;00m e\u001b[38;5;241m.\u001b[39mwith_traceback(filtered_tb) \u001b[38;5;28;01mfrom\u001b[39;00m \u001b[38;5;28mNone\u001b[39m\n\u001b[0;32m     71\u001b[0m \u001b[38;5;28;01mfinally\u001b[39;00m:\n\u001b[0;32m     72\u001b[0m     \u001b[38;5;28;01mdel\u001b[39;00m filtered_tb\n",
      "File \u001b[1;32m<__array_function__ internals>:180\u001b[0m, in \u001b[0;36mtranspose\u001b[1;34m(*args, **kwargs)\u001b[0m\n",
      "File \u001b[1;32m~\\miniconda3\\lib\\site-packages\\numpy\\core\\fromnumeric.py:660\u001b[0m, in \u001b[0;36mtranspose\u001b[1;34m(a, axes)\u001b[0m\n\u001b[0;32m    601\u001b[0m \u001b[38;5;129m@array_function_dispatch\u001b[39m(_transpose_dispatcher)\n\u001b[0;32m    602\u001b[0m \u001b[38;5;28;01mdef\u001b[39;00m \u001b[38;5;21mtranspose\u001b[39m(a, axes\u001b[38;5;241m=\u001b[39m\u001b[38;5;28;01mNone\u001b[39;00m):\n\u001b[0;32m    603\u001b[0m     \u001b[38;5;124;03m\"\"\"\u001b[39;00m\n\u001b[0;32m    604\u001b[0m \u001b[38;5;124;03m    Reverse or permute the axes of an array; returns the modified array.\u001b[39;00m\n\u001b[0;32m    605\u001b[0m \n\u001b[1;32m   (...)\u001b[0m\n\u001b[0;32m    658\u001b[0m \n\u001b[0;32m    659\u001b[0m \u001b[38;5;124;03m    \"\"\"\u001b[39;00m\n\u001b[1;32m--> 660\u001b[0m     \u001b[38;5;28;01mreturn\u001b[39;00m \u001b[43m_wrapfunc\u001b[49m\u001b[43m(\u001b[49m\u001b[43ma\u001b[49m\u001b[43m,\u001b[49m\u001b[43m \u001b[49m\u001b[38;5;124;43m'\u001b[39;49m\u001b[38;5;124;43mtranspose\u001b[39;49m\u001b[38;5;124;43m'\u001b[39;49m\u001b[43m,\u001b[49m\u001b[43m \u001b[49m\u001b[43maxes\u001b[49m\u001b[43m)\u001b[49m\n",
      "File \u001b[1;32m~\\miniconda3\\lib\\site-packages\\numpy\\core\\fromnumeric.py:57\u001b[0m, in \u001b[0;36m_wrapfunc\u001b[1;34m(obj, method, *args, **kwds)\u001b[0m\n\u001b[0;32m     54\u001b[0m     \u001b[38;5;28;01mreturn\u001b[39;00m _wrapit(obj, method, \u001b[38;5;241m*\u001b[39margs, \u001b[38;5;241m*\u001b[39m\u001b[38;5;241m*\u001b[39mkwds)\n\u001b[0;32m     56\u001b[0m \u001b[38;5;28;01mtry\u001b[39;00m:\n\u001b[1;32m---> 57\u001b[0m     \u001b[38;5;28;01mreturn\u001b[39;00m bound(\u001b[38;5;241m*\u001b[39margs, \u001b[38;5;241m*\u001b[39m\u001b[38;5;241m*\u001b[39mkwds)\n\u001b[0;32m     58\u001b[0m \u001b[38;5;28;01mexcept\u001b[39;00m \u001b[38;5;167;01mTypeError\u001b[39;00m:\n\u001b[0;32m     59\u001b[0m     \u001b[38;5;66;03m# A TypeError occurs if the object does have such a method in its\u001b[39;00m\n\u001b[0;32m     60\u001b[0m     \u001b[38;5;66;03m# class, but its signature is not identical to that of NumPy's. This\u001b[39;00m\n\u001b[1;32m   (...)\u001b[0m\n\u001b[0;32m     64\u001b[0m     \u001b[38;5;66;03m# Call _wrapit from within the except clause to ensure a potential\u001b[39;00m\n\u001b[0;32m     65\u001b[0m     \u001b[38;5;66;03m# exception has a traceback chain.\u001b[39;00m\n\u001b[0;32m     66\u001b[0m     \u001b[38;5;28;01mreturn\u001b[39;00m _wrapit(obj, method, \u001b[38;5;241m*\u001b[39margs, \u001b[38;5;241m*\u001b[39m\u001b[38;5;241m*\u001b[39mkwds)\n",
      "\u001b[1;31mValueError\u001b[0m: axes don't match array"
     ]
    }
   ],
   "source": [
    "#Carrega os pesos do ponto de verificação e reavalie\n",
    "modelo.load_weights(\"modelo/melhor_modelo.h5\")"
   ]
  },
  {
   "cell_type": "code",
   "execution_count": 67,
   "id": "bc39bcbd",
   "metadata": {
    "ExecuteTime": {
     "end_time": "2022-10-25T14:48:48.709458Z",
     "start_time": "2022-10-25T14:48:48.604488Z"
    }
   },
   "outputs": [],
   "source": [
    "# Carregando e preparando os dados de teste\n",
    "camninho_imagens_teste = list(caminho_dados_teste.glob(\"*/*\"))\n",
    "imagens_teste = list(map(lambda x: str(x), camninho_imagens_teste))\n",
    "imagens_teste_labels = list(map(lambda x: extrai_label(x), imagens_teste))\n",
    "imagens_teste_labels = encoder.fit_transform(imagens_teste_labels)\n",
    "imagens_teste_labels = tf.keras.utils.to_categorical(imagens_teste_labels)\n",
    "test_image_paths = tf.convert_to_tensor(imagens_teste)\n",
    "test_image_labels = tf.convert_to_tensor(imagens_teste_labels)"
   ]
  },
  {
   "cell_type": "code",
   "execution_count": null,
   "id": "d4c536db",
   "metadata": {},
   "outputs": [],
   "source": [
    "# Função para decode das imagens\n",
    "def decode_imagens(image, label):\n",
    "    image = tf.io.read_file(image)\n",
    "    image = tf.io.decode_jpeg(image, channels = 3)\n",
    "    image = tf.image.resize(image, [224,224], method = \"bilinear\")\n",
    "    return image, label"
   ]
  },
  {
   "cell_type": "code",
   "execution_count": null,
   "id": "d7c6b655",
   "metadata": {},
   "outputs": [],
   "source": [
    "# Cria o dataset de teste\n",
    "dataset_teste = (tf.data.Dataset\n",
    "                 .from_tensor_slices((imagens_teste, imagens_teste_labels))\n",
    "                 .map(decode_imagens)\n",
    "                 .batch(batch_size))"
   ]
  },
  {
   "cell_type": "code",
   "execution_count": null,
   "id": "bc7e080d",
   "metadata": {},
   "outputs": [],
   "source": [
    "# Shape\n",
    "imagem, label = next(iter(dataset_teste))\n",
    "print(imagem.shape)\n",
    "print(label.shape)"
   ]
  },
  {
   "cell_type": "code",
   "execution_count": null,
   "id": "251baca7",
   "metadata": {},
   "outputs": [],
   "source": [
    "# Visualiza uma imagem de teste\n",
    "print(encoder.inverse_transform(np.argmax(label, axis = 1))[0])\n",
    "plt.imshow((imagem[0].numpy()/255).reshape(224,224,3))"
   ]
  },
  {
   "cell_type": "code",
   "execution_count": null,
   "id": "8e50b3f5",
   "metadata": {},
   "outputs": [],
   "source": [
    "# Avalia o modelo\n",
    "loss, acc, prec, rec = modelo.evaluate(dataset_teste)"
   ]
  },
  {
   "cell_type": "code",
   "execution_count": null,
   "id": "381fd21c",
   "metadata": {},
   "outputs": [],
   "source": [
    "print(\"Acurácia: \", acc)\n",
    "print(\"Precision: \", prec)\n",
    "print(\"Recall: \", rec)"
   ]
  },
  {
   "cell_type": "markdown",
   "id": "0cfb28fa",
   "metadata": {},
   "source": [
    "## Previsões com o modelo treinado"
   ]
  },
  {
   "cell_type": "code",
   "execution_count": null,
   "id": "965c86ec",
   "metadata": {},
   "outputs": [],
   "source": [
    "# Função para carregar uma nova imagem\n",
    "def carrega_nova_imagem(image_path):\n",
    "    image = tf.io.read_file(image_path)\n",
    "    image = tf.io.decode_jpeg(image, channels = 3)\n",
    "    image = tf.image.resize(image, [224,224], method = \"bilinear\")\n",
    "    plt.imshow(image.numpy()/255)\n",
    "    image = tf.expand_dims(image, 0) \n",
    "    return image"
   ]
  },
  {
   "cell_type": "code",
   "execution_count": 68,
   "id": "4e03544a",
   "metadata": {
    "ExecuteTime": {
     "end_time": "2022-10-25T14:51:11.098800Z",
     "start_time": "2022-10-25T14:51:11.082062Z"
    }
   },
   "outputs": [],
   "source": [
    "# Função para fazer previsões\n",
    "def faz_previsao(image_path, model, enc):\n",
    "    image = carrega_nova_imagem(image_path)\n",
    "    prediction = model.predict(image)\n",
    "    pred = np.argmax(prediction, axis = 1) \n",
    "    return enc.inverse_transform(pred)[0] "
   ]
  },
  {
   "cell_type": "code",
   "execution_count": null,
   "id": "a0e79f72",
   "metadata": {},
   "outputs": [],
   "source": [
    "# Previsão\n",
    "faz_previsao(\"imagens/imagem1.jpg\", modelo, encoder)"
   ]
  },
  {
   "cell_type": "code",
   "execution_count": null,
   "id": "44899e7c",
   "metadata": {},
   "outputs": [],
   "source": [
    "# Previsão\n",
    "faz_previsao(\"imagens/imagem2.jpg\", modelo, encoder)"
   ]
  },
  {
   "cell_type": "code",
   "execution_count": null,
   "id": "a606b93f",
   "metadata": {},
   "outputs": [],
   "source": [
    "# Previsão\n",
    "faz_previsao(\"imagens/imagem3.jpg\", modelo, encoder)"
   ]
  },
  {
   "cell_type": "code",
   "execution_count": null,
   "id": "d99dfc94",
   "metadata": {},
   "outputs": [],
   "source": [
    "# Previsão\n",
    "faz_previsao(\"imagens/imagem4.jpg\", modelo, encoder)"
   ]
  },
  {
   "cell_type": "code",
   "execution_count": null,
   "id": "75c91d40",
   "metadata": {},
   "outputs": [],
   "source": [
    "# Previsão\n",
    "faz_previsao(\"imagens/imagem5.jpg\", modelo, encoder)"
   ]
  },
  {
   "cell_type": "code",
   "execution_count": null,
   "id": "58507eff",
   "metadata": {},
   "outputs": [],
   "source": []
  },
  {
   "cell_type": "code",
   "execution_count": null,
   "id": "dad616bb",
   "metadata": {},
   "outputs": [],
   "source": []
  }
 ],
 "metadata": {
  "kernelspec": {
   "display_name": "Python 3 (ipykernel)",
   "language": "python",
   "name": "python3"
  },
  "language_info": {
   "codemirror_mode": {
    "name": "ipython",
    "version": 3
   },
   "file_extension": ".py",
   "mimetype": "text/x-python",
   "name": "python",
   "nbconvert_exporter": "python",
   "pygments_lexer": "ipython3",
   "version": "3.9.13"
  },
  "toc": {
   "base_numbering": 1,
   "nav_menu": {},
   "number_sections": true,
   "sideBar": true,
   "skip_h1_title": false,
   "title_cell": "Table of Contents",
   "title_sidebar": "Contents",
   "toc_cell": false,
   "toc_position": {},
   "toc_section_display": true,
   "toc_window_display": false
  },
  "varInspector": {
   "cols": {
    "lenName": 16,
    "lenType": 16,
    "lenVar": 40
   },
   "kernels_config": {
    "python": {
     "delete_cmd_postfix": "",
     "delete_cmd_prefix": "del ",
     "library": "var_list.py",
     "varRefreshCmd": "print(var_dic_list())"
    },
    "r": {
     "delete_cmd_postfix": ") ",
     "delete_cmd_prefix": "rm(",
     "library": "var_list.r",
     "varRefreshCmd": "cat(var_dic_list()) "
    }
   },
   "types_to_exclude": [
    "module",
    "function",
    "builtin_function_or_method",
    "instance",
    "_Feature"
   ],
   "window_display": false
  }
 },
 "nbformat": 4,
 "nbformat_minor": 5
}
